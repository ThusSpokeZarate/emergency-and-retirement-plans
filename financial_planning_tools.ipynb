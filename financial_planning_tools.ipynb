{
 "cells": [
  {
   "cell_type": "markdown",
   "metadata": {},
   "source": [
    "# Financial Planning with APIs and Simulations\n",
    "\n",
    "In this Challenge, you’ll create two financial analysis tools by using a single Jupyter notebook:\n",
    "\n",
    "Part 1: A financial planner for emergencies. The members will be able to use this tool to visualize their current savings. The members can then determine if they have enough reserves for an emergency fund.\n",
    "\n",
    "Part 2: A financial planner for retirement. This tool will forecast the performance of their retirement portfolio in 30 years. To do this, the tool will make an Alpaca API call via the Alpaca SDK to get historical price data for use in Monte Carlo simulations.\n",
    "\n",
    "You’ll use the information from the Monte Carlo simulation to answer questions about the portfolio in your Jupyter notebook.\n",
    "\n"
   ]
  },
  {
   "cell_type": "code",
   "execution_count": 1,
   "metadata": {},
   "outputs": [],
   "source": [
    "# Import the required libraries and dependencies\n",
    "import os\n",
    "import requests\n",
    "import json\n",
    "import pandas as pd\n",
    "from dotenv import load_dotenv\n",
    "import alpaca_trade_api as tradeapi\n",
    "from MCForecastTools import MCSimulation\n",
    "\n",
    "%matplotlib inline"
   ]
  },
  {
   "cell_type": "code",
   "execution_count": 2,
   "metadata": {},
   "outputs": [
    {
     "data": {
      "text/plain": [
       "True"
      ]
     },
     "execution_count": 2,
     "metadata": {},
     "output_type": "execute_result"
    }
   ],
   "source": [
    "# Load the environment variables from the .env file\n",
    "#by calling the load_dotenv function\n",
    "load_dotenv()\n",
    "\n"
   ]
  },
  {
   "cell_type": "markdown",
   "metadata": {},
   "source": [
    "## Part 1: Create a Financial Planner for Emergencies"
   ]
  },
  {
   "cell_type": "markdown",
   "metadata": {},
   "source": [
    "### Evaluate the Cryptocurrency Wallet by Using the Requests Library\n",
    "\n",
    "In this section, you’ll determine the current value of a member’s cryptocurrency wallet. You’ll collect the current prices for the Bitcoin and Ethereum cryptocurrencies by using the Python Requests library. For the prototype, you’ll assume that the member holds the 1.2 Bitcoins (BTC) and 5.3 Ethereum coins (ETH). To do all this, complete the following steps:\n",
    "\n",
    "1. Create a variable named `monthly_income`, and set its value to `12000`.\n",
    "\n",
    "2. Use the Requests library to get the current price (in US dollars) of Bitcoin (BTC) and Ethereum (ETH) by using the API endpoints that the starter code supplies.\n",
    "\n",
    "3. Navigate the JSON response object to access the current price of each coin, and store each in a variable.\n",
    "\n",
    "    > **Hint** Note the specific identifier for each cryptocurrency in the API JSON response. The Bitcoin identifier is `1`, and the Ethereum identifier is `1027`.\n",
    "\n",
    "4. Calculate the value, in US dollars, of the current amount of each cryptocurrency and of the entire cryptocurrency wallet.\n",
    "\n"
   ]
  },
  {
   "cell_type": "code",
   "execution_count": 3,
   "metadata": {},
   "outputs": [],
   "source": [
    "# The current number of coins for each cryptocurrency asset held in the portfolio.\n",
    "btc_coins = 1.2\n",
    "eth_coins = 5.3"
   ]
  },
  {
   "cell_type": "markdown",
   "metadata": {},
   "source": [
    "#### Step 1: Create a variable named `monthly_income`, and set its value to `12000`."
   ]
  },
  {
   "cell_type": "code",
   "execution_count": 4,
   "metadata": {},
   "outputs": [],
   "source": [
    "# The monthly amount for the member's household income\n",
    "monthly_income = 12000\n"
   ]
  },
  {
   "cell_type": "markdown",
   "metadata": {},
   "source": [
    "#### Review the endpoint URLs for the API calls to Free Crypto API in order to get the current pricing information for both BTC and ETH."
   ]
  },
  {
   "cell_type": "code",
   "execution_count": 5,
   "metadata": {},
   "outputs": [],
   "source": [
    "# The Free Crypto API Call endpoint URLs for the held cryptocurrency assets\n",
    "btc_url = \"https://api.alternative.me/v2/ticker/Bitcoin/?convert=USD\"\n",
    "eth_url = \"https://api.alternative.me/v2/ticker/Ethereum/?convert=USD\""
   ]
  },
  {
   "cell_type": "markdown",
   "metadata": {},
   "source": [
    "#### Step 2. Use the Requests library to get the current price (in US dollars) of Bitcoin (BTC) and Ethereum (ETH) by using the API endpoints that the starter code supplied."
   ]
  },
  {
   "cell_type": "code",
   "execution_count": 6,
   "metadata": {},
   "outputs": [
    {
     "name": "stdout",
     "output_type": "stream",
     "text": [
      "{\n",
      "  \"data\": {\n",
      "    \"1\": {\n",
      "      \"circulating_supply\": 18852312,\n",
      "      \"id\": 1,\n",
      "      \"last_updated\": 1635031103,\n",
      "      \"max_supply\": 21000000,\n",
      "      \"name\": \"Bitcoin\",\n",
      "      \"quotes\": {\n",
      "        \"USD\": {\n",
      "          \"market_cap\": 1158042516321,\n",
      "          \"percent_change_1h\": -0.530871044661653,\n",
      "          \"percent_change_24h\": 0.920078848072154,\n",
      "          \"percent_change_7d\": -0.627702162316601,\n",
      "          \"percentage_change_1h\": -0.530871044661653,\n",
      "          \"percentage_change_24h\": 0.920078848072154,\n",
      "          \"percentage_change_7d\": -0.627702162316601,\n",
      "          \"price\": 61421.0,\n",
      "          \"volume_24h\": 28611659336\n",
      "        }\n",
      "      },\n",
      "      \"rank\": 1,\n",
      "      \"symbol\": \"BTC\",\n",
      "      \"total_supply\": 18852312,\n",
      "      \"website_slug\": \"bitcoin\"\n",
      "    }\n",
      "  },\n",
      "  \"metadata\": {\n",
      "    \"error\": null,\n",
      "    \"num_cryptocurrencies\": 3105,\n",
      "    \"timestamp\": 1635031103\n",
      "  }\n",
      "}\n"
     ]
    }
   ],
   "source": [
    "# Using the Python requests library, make an API call to access the current price of BTC\n",
    "btc_response = requests.get(btc_url).json()\n",
    "\n",
    "# Use the json.dumps function to review the response data from the API call\n",
    "# Use the indent and sort_keys parameters to make the response object readable\n",
    "print(json.dumps(btc_response, indent=2, sort_keys=True))\n"
   ]
  },
  {
   "cell_type": "code",
   "execution_count": 7,
   "metadata": {},
   "outputs": [
    {
     "name": "stdout",
     "output_type": "stream",
     "text": [
      "{\n",
      "  \"data\": {\n",
      "    \"1027\": {\n",
      "      \"circulating_supply\": 118049920,\n",
      "      \"id\": 1027,\n",
      "      \"last_updated\": 1635031181,\n",
      "      \"max_supply\": 0,\n",
      "      \"name\": \"Ethereum\",\n",
      "      \"quotes\": {\n",
      "        \"USD\": {\n",
      "          \"market_cap\": 489958079172,\n",
      "          \"percent_change_1h\": -0.226140712137265,\n",
      "          \"percent_change_24h\": 3.75269874805319,\n",
      "          \"percent_change_7d\": 6.41791440643733,\n",
      "          \"percentage_change_1h\": -0.226140712137265,\n",
      "          \"percentage_change_24h\": 3.75269874805319,\n",
      "          \"percentage_change_7d\": 6.41791440643733,\n",
      "          \"price\": 4135.02,\n",
      "          \"volume_24h\": 15969389539\n",
      "        }\n",
      "      },\n",
      "      \"rank\": 2,\n",
      "      \"symbol\": \"ETH\",\n",
      "      \"total_supply\": 118049920,\n",
      "      \"website_slug\": \"ethereum\"\n",
      "    }\n",
      "  },\n",
      "  \"metadata\": {\n",
      "    \"error\": null,\n",
      "    \"num_cryptocurrencies\": 3105,\n",
      "    \"timestamp\": 1635031181\n",
      "  }\n",
      "}\n"
     ]
    }
   ],
   "source": [
    "# Using the Python requests library, make an API call to access the current price ETH\n",
    "eth_response = requests.get(eth_url).json()\n",
    "\n",
    "# Use the json.dumps function to review the response data from the API call\n",
    "# Use the indent and sort_keys parameters to make the response object readable\n",
    "print(json.dumps(eth_response, indent=2, sort_keys=True))\n"
   ]
  },
  {
   "cell_type": "markdown",
   "metadata": {},
   "source": [
    "#### Step 3: Navigate the JSON response object to access the current price of each coin, and store each in a variable."
   ]
  },
  {
   "cell_type": "code",
   "execution_count": 8,
   "metadata": {},
   "outputs": [
    {
     "name": "stdout",
     "output_type": "stream",
     "text": [
      "61421.0\n"
     ]
    }
   ],
   "source": [
    "# Navigate the BTC response object to access the current price of BTC\n",
    "btc_price = btc_response[\"data\"][\"1\"][\"quotes\"][\"USD\"][\"price\"]\n",
    "\n",
    "# Print the current price of BTC\n",
    "print(btc_price)\n"
   ]
  },
  {
   "cell_type": "code",
   "execution_count": 9,
   "metadata": {},
   "outputs": [
    {
     "name": "stdout",
     "output_type": "stream",
     "text": [
      "4135.02\n"
     ]
    }
   ],
   "source": [
    "# Navigate the BTC response object to access the current price of ETH\n",
    "eth_price = eth_response[\"data\"][\"1027\"][\"quotes\"][\"USD\"][\"price\"]\n",
    "\n",
    "# Print the current price of ETH\n",
    "print(eth_price)\n"
   ]
  },
  {
   "cell_type": "markdown",
   "metadata": {},
   "source": [
    "### Step 4: Calculate the value, in US dollars, of the current amount of each cryptocurrency and of the entire cryptocurrency wallet."
   ]
  },
  {
   "cell_type": "code",
   "execution_count": 10,
   "metadata": {},
   "outputs": [
    {
     "name": "stdout",
     "output_type": "stream",
     "text": [
      "73705.2\n"
     ]
    }
   ],
   "source": [
    "# Compute the current value of the BTC holding \n",
    "btc_value = btc_price * btc_coins\n",
    "\n",
    "# Print current value of your holding in BTC\n",
    "print(btc_value)\n"
   ]
  },
  {
   "cell_type": "code",
   "execution_count": 11,
   "metadata": {},
   "outputs": [
    {
     "name": "stdout",
     "output_type": "stream",
     "text": [
      "21915.606\n"
     ]
    }
   ],
   "source": [
    "# Compute the current value of the ETH holding \n",
    "eth_value = eth_price * eth_coins\n",
    "\n",
    "# Print current value of your holding in ETH\n",
    "print(eth_value)"
   ]
  },
  {
   "cell_type": "code",
   "execution_count": 12,
   "metadata": {},
   "outputs": [
    {
     "name": "stdout",
     "output_type": "stream",
     "text": [
      "95620.806\n"
     ]
    }
   ],
   "source": [
    "# Compute the total value of the cryptocurrency wallet\n",
    "# Add the value of the BTC holding to the value of the ETH holding\n",
    "total_crypto_wallet = btc_value + eth_value\n",
    "\n",
    "# Print current cryptocurrency wallet balance\n",
    "print(total_crypto_wallet)\n"
   ]
  },
  {
   "cell_type": "markdown",
   "metadata": {},
   "source": [
    "### Evaluate the Stock and Bond Holdings by Using the Alpaca SDK\n",
    "\n",
    "In this section, you’ll determine the current value of a member’s stock and bond holdings. You’ll make an API call to Alpaca via the Alpaca SDK to get the current closing prices of the SPDR S&P 500 ETF Trust (ticker: SPY) and of the iShares Core US Aggregate Bond ETF (ticker: AGG). For the prototype, assume that the member holds 110 shares of SPY, which represents the stock portion of their portfolio, and 200 shares of AGG, which represents the bond portion. To do all this, complete the following steps:\n",
    "\n",
    "1. In the `Starter_Code` folder, create an environment file (`.env`) to store the values of your Alpaca API key and Alpaca secret key.\n",
    "\n",
    "2. Set the variables for the Alpaca API and secret keys. Using the Alpaca SDK, create the Alpaca `tradeapi.REST` object. In this object, include the parameters for the Alpaca API key, the secret key, and the version number.\n",
    "\n",
    "3. Set the following parameters for the Alpaca API call:\n",
    "\n",
    "    - `tickers`: Use the tickers for the member’s stock and bond holdings.\n",
    "\n",
    "    - `timeframe`: Use a time frame of one day.\n",
    "\n",
    "    - `start_date` and `end_date`: Use the same date for these parameters, and format them with the date of the previous weekday (or `2020-08-07`). This is because you want the one closing price for the most-recent trading day.\n",
    "\n",
    "4. Get the current closing prices for `SPY` and `AGG` by using the Alpaca `get_barset` function. Format the response as a Pandas DataFrame by including the `df` property at the end of the `get_barset` function.\n",
    "\n",
    "5. Navigating the Alpaca response DataFrame, select the `SPY` and `AGG` closing prices, and store them as variables.\n",
    "\n",
    "6. Calculate the value, in US dollars, of the current amount of shares in each of the stock and bond portions of the portfolio, and print the results.\n"
   ]
  },
  {
   "cell_type": "markdown",
   "metadata": {},
   "source": [
    "#### Review the total number of shares held in both (SPY) and (AGG)."
   ]
  },
  {
   "cell_type": "code",
   "execution_count": 13,
   "metadata": {},
   "outputs": [],
   "source": [
    "# Current amount of shares held in both the stock (SPY) and bond (AGG) portion of the portfolio.\n",
    "spy_shares = 110\n",
    "agg_shares = 200\n"
   ]
  },
  {
   "cell_type": "markdown",
   "metadata": {},
   "source": [
    "#### Step 1: In the `Starter_Code` folder, create an environment file (`.env`) to store the values of your Alpaca API key and Alpaca secret key."
   ]
  },
  {
   "cell_type": "markdown",
   "metadata": {},
   "source": [
    "#### Step 2: Set the variables for the Alpaca API and secret keys. Using the Alpaca SDK, create the Alpaca `tradeapi.REST` object. In this object, include the parameters for the Alpaca API key, the secret key, and the version number."
   ]
  },
  {
   "cell_type": "code",
   "execution_count": 14,
   "metadata": {},
   "outputs": [],
   "source": [
    "# Set the variables for the Alpaca API and secret keys\n",
    "alpaca_api_key = os.getenv('ALPACA_API_KEY')\n",
    "alpaca_secret_key = os.getenv('ALPACA_SECRET_KEY')\n",
    "type(alpaca_secret_key)\n",
    "\n",
    "# Create the Alpaca tradeapi.REST object\n",
    "alpaca = tradeapi.REST(\n",
    "    alpaca_api_key,\n",
    "    alpaca_secret_key,\n",
    "    api_version = \"v2\"\n",
    ")\n"
   ]
  },
  {
   "cell_type": "markdown",
   "metadata": {},
   "source": [
    "#### Step 3: Set the following parameters for the Alpaca API call:\n",
    "\n",
    "- `tickers`: Use the tickers for the member’s stock and bond holdings.\n",
    "\n",
    "- `timeframe`: Use a time frame of one day.\n",
    "\n",
    "- `start_date` and `end_date`: Use the same date for these parameters, and format them with the date of the previous weekday (or `2020-08-07`). This is because you want the one closing price for the most-recent trading day.\n"
   ]
  },
  {
   "cell_type": "code",
   "execution_count": 15,
   "metadata": {},
   "outputs": [],
   "source": [
    "# Set the tickers for both the bond and stock portion of the portfolio\n",
    "tickers = [\"SPY\",\"AGG\"]\n",
    "\n",
    "# Set timeframe to 1D \n",
    "timeframe = \"1D\"\n",
    "\n",
    "# Format current date as ISO format\n",
    "# Set both the start and end date at the date of your prior weekday \n",
    "# This will give you the closing price of the previous trading day\n",
    "# Alternatively you can use a start and end date of 2020-08-07\n",
    "start_date = pd.Timestamp(\"2021-10-19\", tz=\"America/New_York\").isoformat()\n",
    "end_date = pd.Timestamp(\"2021-10-19\", tz=\"America/New_York\").isoformat()\n"
   ]
  },
  {
   "cell_type": "markdown",
   "metadata": {},
   "source": [
    "#### Step 4: Get the current closing prices for `SPY` and `AGG` by using the Alpaca `get_barset` function. Format the response as a Pandas DataFrame by including the `df` property at the end of the `get_barset` function."
   ]
  },
  {
   "cell_type": "code",
   "execution_count": 16,
   "metadata": {},
   "outputs": [
    {
     "data": {
      "text/html": [
       "<div>\n",
       "<style scoped>\n",
       "    .dataframe tbody tr th:only-of-type {\n",
       "        vertical-align: middle;\n",
       "    }\n",
       "\n",
       "    .dataframe tbody tr th {\n",
       "        vertical-align: top;\n",
       "    }\n",
       "\n",
       "    .dataframe thead tr th {\n",
       "        text-align: left;\n",
       "    }\n",
       "\n",
       "    .dataframe thead tr:last-of-type th {\n",
       "        text-align: right;\n",
       "    }\n",
       "</style>\n",
       "<table border=\"1\" class=\"dataframe\">\n",
       "  <thead>\n",
       "    <tr>\n",
       "      <th></th>\n",
       "      <th colspan=\"5\" halign=\"left\">AGG</th>\n",
       "      <th colspan=\"5\" halign=\"left\">SPY</th>\n",
       "    </tr>\n",
       "    <tr>\n",
       "      <th></th>\n",
       "      <th>open</th>\n",
       "      <th>high</th>\n",
       "      <th>low</th>\n",
       "      <th>close</th>\n",
       "      <th>volume</th>\n",
       "      <th>open</th>\n",
       "      <th>high</th>\n",
       "      <th>low</th>\n",
       "      <th>close</th>\n",
       "      <th>volume</th>\n",
       "    </tr>\n",
       "    <tr>\n",
       "      <th>time</th>\n",
       "      <th></th>\n",
       "      <th></th>\n",
       "      <th></th>\n",
       "      <th></th>\n",
       "      <th></th>\n",
       "      <th></th>\n",
       "      <th></th>\n",
       "      <th></th>\n",
       "      <th></th>\n",
       "      <th></th>\n",
       "    </tr>\n",
       "  </thead>\n",
       "  <tbody>\n",
       "    <tr>\n",
       "      <th>2021-10-19 00:00:00-04:00</th>\n",
       "      <td>114.37</td>\n",
       "      <td>114.37</td>\n",
       "      <td>114.16</td>\n",
       "      <td>114.18</td>\n",
       "      <td>3999066</td>\n",
       "      <td>448.92</td>\n",
       "      <td>450.7</td>\n",
       "      <td>448.27</td>\n",
       "      <td>450.68</td>\n",
       "      <td>40790864</td>\n",
       "    </tr>\n",
       "  </tbody>\n",
       "</table>\n",
       "</div>"
      ],
      "text/plain": [
       "                              AGG                                      SPY  \\\n",
       "                             open    high     low   close   volume    open   \n",
       "time                                                                         \n",
       "2021-10-19 00:00:00-04:00  114.37  114.37  114.16  114.18  3999066  448.92   \n",
       "\n",
       "                                                            \n",
       "                            high     low   close    volume  \n",
       "time                                                        \n",
       "2021-10-19 00:00:00-04:00  450.7  448.27  450.68  40790864  "
      ]
     },
     "execution_count": 16,
     "metadata": {},
     "output_type": "execute_result"
    }
   ],
   "source": [
    "# Use the Alpaca get_barset function to get current closing prices the portfolio\n",
    "# Be sure to set the `df` property after the function to format the response object as a DataFrame\n",
    "portfolio_prices_df = alpaca.get_barset(\n",
    "    tickers,\n",
    "    timeframe,\n",
    "    start = start_date,\n",
    "    end = end_date\n",
    ").df\n",
    "\n",
    "# Review the first 5 rows of the Alpaca DataFrame\n",
    "portfolio_prices_df.head()\n"
   ]
  },
  {
   "cell_type": "markdown",
   "metadata": {},
   "source": [
    "#### Step 5: Navigating the Alpaca response DataFrame, select the `SPY` and `AGG` closing prices, and store them as variables."
   ]
  },
  {
   "cell_type": "code",
   "execution_count": 17,
   "metadata": {},
   "outputs": [
    {
     "name": "stdout",
     "output_type": "stream",
     "text": [
      "114.18\n"
     ]
    }
   ],
   "source": [
    "# Access the closing price for AGG from the Alpaca DataFrame\n",
    "# Converting the value to a floating point number\n",
    "agg_close_price = float(portfolio_prices_df[\"AGG\"][\"close\"])\n",
    "\n",
    "# Print the AGG closing price\n",
    "print(agg_close_price)\n"
   ]
  },
  {
   "cell_type": "code",
   "execution_count": 18,
   "metadata": {},
   "outputs": [
    {
     "name": "stdout",
     "output_type": "stream",
     "text": [
      "450.68\n"
     ]
    }
   ],
   "source": [
    "# Access the closing price for SPY from the Alpaca DataFrame\n",
    "# Converting the value to a floating point number\n",
    "spy_close_price = float(portfolio_prices_df[\"SPY\"][\"close\"])\n",
    "\n",
    "# Print the SPY closing price\n",
    "print(spy_close_price)\n"
   ]
  },
  {
   "cell_type": "markdown",
   "metadata": {},
   "source": [
    "#### Step 6: Calculate the value, in US dollars, of the current amount of shares in each of the stock and bond portions of the portfolio, and print the results."
   ]
  },
  {
   "cell_type": "code",
   "execution_count": 19,
   "metadata": {},
   "outputs": [
    {
     "name": "stdout",
     "output_type": "stream",
     "text": [
      "22836.0\n"
     ]
    }
   ],
   "source": [
    "# Calculate the current value of the bond portion of the portfolio\n",
    "agg_value = agg_shares * agg_close_price\n",
    "\n",
    "# Print the current value of the bond portfolio\n",
    "print(agg_value)\n"
   ]
  },
  {
   "cell_type": "code",
   "execution_count": 20,
   "metadata": {},
   "outputs": [
    {
     "name": "stdout",
     "output_type": "stream",
     "text": [
      "49574.8\n"
     ]
    }
   ],
   "source": [
    "# Calculate the current value of the stock portion of the portfolio\n",
    "spy_value = spy_shares * spy_close_price\n",
    "\n",
    "# Print the current value of the stock portfolio\n",
    "print(spy_value)\n"
   ]
  },
  {
   "cell_type": "code",
   "execution_count": 21,
   "metadata": {},
   "outputs": [
    {
     "name": "stdout",
     "output_type": "stream",
     "text": [
      "72410.8\n"
     ]
    }
   ],
   "source": [
    "# Calculate the total value of the stock and bond portion of the portfolio\n",
    "total_stocks_bonds = agg_value + spy_value\n",
    "\n",
    "# Print the current balance of the stock and bond portion of the portfolio\n",
    "print(total_stocks_bonds)\n"
   ]
  },
  {
   "cell_type": "code",
   "execution_count": 22,
   "metadata": {},
   "outputs": [
    {
     "name": "stdout",
     "output_type": "stream",
     "text": [
      "168031.606\n"
     ]
    }
   ],
   "source": [
    "# Calculate the total value of the member's entire savings portfolio\n",
    "# Add the value of the cryptocurrency walled to the value of the total stocks and bonds\n",
    "total_portfolio = total_crypto_wallet + total_stocks_bonds\n",
    "\n",
    "# Print current portfolio balance\n",
    "print(total_portfolio)\n"
   ]
  },
  {
   "cell_type": "markdown",
   "metadata": {},
   "source": [
    "### Evaluate the Emergency Fund\n",
    "\n",
    "In this section, you’ll use the valuations for the cryptocurrency wallet and for the stock and bond portions of the portfolio to determine if the credit union member has enough savings to build an emergency fund into their financial plan. To do this, complete the following steps:\n",
    "\n",
    "1. Create a Python list named `savings_data` that has two elements. The first element contains the total value of the cryptocurrency wallet. The second element contains the total value of the stock and bond portions of the portfolio.\n",
    "\n",
    "2. Use the `savings_data` list to create a Pandas DataFrame named `savings_df`, and then display this DataFrame. The function to create the DataFrame should take the following three parameters:\n",
    "\n",
    "    - `savings_data`: Use the list that you just created.\n",
    "\n",
    "    - `columns`: Set this parameter equal to a Python list with a single value called `amount`.\n",
    "\n",
    "    - `index`: Set this parameter equal to a Python list with the values of `crypto` and `stock/bond`.\n",
    "\n",
    "3. Use the `savings_df` DataFrame to plot a pie chart that visualizes the composition of the member’s portfolio. The y-axis of the pie chart uses `amount`. Be sure to add a title.\n",
    "\n",
    "4. Using Python, determine if the current portfolio has enough to create an emergency fund as part of the member’s financial plan. Ideally, an emergency fund should equal to three times the member’s monthly income. To do this, implement the following steps:\n",
    "\n",
    "    1. Create a variable named `emergency_fund_value`, and set it equal to three times the value of the member’s `monthly_income` of $12000. (You set this earlier in Part 1).\n",
    "\n",
    "    2. Create a series of three if statements to determine if the member’s total portfolio is large enough to fund the emergency portfolio:\n",
    "\n",
    "        1. If the total portfolio value is greater than the emergency fund value, display a message congratulating the member for having enough money in this fund.\n",
    "\n",
    "        2. Else if the total portfolio value is equal to the emergency fund value, display a message congratulating the member on reaching this important financial goal.\n",
    "\n",
    "        3. Else the total portfolio is less than the emergency fund value, so display a message showing how many dollars away the member is from reaching the goal. (Subtract the total portfolio value from the emergency fund value.)\n"
   ]
  },
  {
   "cell_type": "markdown",
   "metadata": {},
   "source": [
    "#### Step 1: Create a Python list named `savings_data` that has two elements. The first element contains the total value of the cryptocurrency wallet. The second element contains the total value of the stock and bond portions of the portfolio."
   ]
  },
  {
   "cell_type": "code",
   "execution_count": 23,
   "metadata": {},
   "outputs": [
    {
     "name": "stdout",
     "output_type": "stream",
     "text": [
      "[95620.806, 72410.8]\n"
     ]
    }
   ],
   "source": [
    "# Consolidate financial assets data into a Python list\n",
    "savings_data = [total_crypto_wallet, total_stocks_bonds]\n",
    "\n",
    "# Review the Python list savings_data\n",
    "print(savings_data)"
   ]
  },
  {
   "cell_type": "markdown",
   "metadata": {},
   "source": [
    "#### Step 2: Use the `savings_data` list to create a Pandas DataFrame named `savings_df`, and then display this DataFrame. The function to create the DataFrame should take the following three parameters:\n",
    "\n",
    "- `savings_data`: Use the list that you just created.\n",
    "\n",
    "- `columns`: Set this parameter equal to a Python list with a single value called `amount`.\n",
    "\n",
    "- `index`: Set this parameter equal to a Python list with the values of `crypto` and `stock/bond`.\n"
   ]
  },
  {
   "cell_type": "code",
   "execution_count": 24,
   "metadata": {},
   "outputs": [
    {
     "data": {
      "text/html": [
       "<div>\n",
       "<style scoped>\n",
       "    .dataframe tbody tr th:only-of-type {\n",
       "        vertical-align: middle;\n",
       "    }\n",
       "\n",
       "    .dataframe tbody tr th {\n",
       "        vertical-align: top;\n",
       "    }\n",
       "\n",
       "    .dataframe thead th {\n",
       "        text-align: right;\n",
       "    }\n",
       "</style>\n",
       "<table border=\"1\" class=\"dataframe\">\n",
       "  <thead>\n",
       "    <tr style=\"text-align: right;\">\n",
       "      <th></th>\n",
       "      <th>amount</th>\n",
       "    </tr>\n",
       "  </thead>\n",
       "  <tbody>\n",
       "    <tr>\n",
       "      <th>crypto</th>\n",
       "      <td>95620.806</td>\n",
       "    </tr>\n",
       "    <tr>\n",
       "      <th>stock/bond</th>\n",
       "      <td>72410.800</td>\n",
       "    </tr>\n",
       "  </tbody>\n",
       "</table>\n",
       "</div>"
      ],
      "text/plain": [
       "               amount\n",
       "crypto      95620.806\n",
       "stock/bond  72410.800"
      ]
     },
     "execution_count": 24,
     "metadata": {},
     "output_type": "execute_result"
    }
   ],
   "source": [
    "# Create a Pandas DataFrame called savings_df \n",
    "savings_df = pd.DataFrame(\n",
    "    columns = [\"amount\"],\n",
    "    index = [\"crypto\", \"stock/bond\"]\n",
    ")\n",
    "\n",
    "savings_df[\"amount\"] = savings_data\n",
    "\n",
    "# Display the savings_df DataFrame\n",
    "savings_df\n"
   ]
  },
  {
   "cell_type": "markdown",
   "metadata": {},
   "source": [
    "#### Step 3: Use the `savings_df` DataFrame to plot a pie chart that visualizes the composition of the member’s portfolio. The y-axis of the pie chart uses `amount`. Be sure to add a title."
   ]
  },
  {
   "cell_type": "code",
   "execution_count": 25,
   "metadata": {},
   "outputs": [
    {
     "data": {
      "text/plain": [
       "<AxesSubplot:title={'center':'Savings Composition as of 2021-10-19'}, ylabel='amount'>"
      ]
     },
     "execution_count": 25,
     "metadata": {},
     "output_type": "execute_result"
    },
    {
     "data": {
      "image/png": "[encoded data removed]",
      "text/plain": [
       "<Figure size 432x288 with 1 Axes>"
      ]
     },
     "metadata": {},
     "output_type": "display_data"
    }
   ],
   "source": [
    "# Plot the total value of the member's portfolio (crypto and stock/bond) in a pie chart\n",
    "savings_df.plot.pie(y=\"amount\", title = \"Savings Composition as of 2021-10-19\")\n"
   ]
  },
  {
   "cell_type": "markdown",
   "metadata": {},
   "source": [
    "#### Step 4: Using Python, determine if the current portfolio has enough to create an emergency fund as part of the member’s financial plan. Ideally, an emergency fund should equal to three times the member’s monthly income. To do this, implement the following steps:\n",
    "\n",
    "Step 1. Create a variable named `emergency_fund_value`, and set it equal to three times the value of the member’s `monthly_income` of 12000. (You set this earlier in Part 1).\n",
    "\n",
    "Step 2. Create a series of three if statements to determine if the member’s total portfolio is large enough to fund the emergency portfolio:\n",
    "\n",
    "* If the total portfolio value is greater than the emergency fund value, display a message congratulating the member for having enough money in this fund.\n",
    "\n",
    "* Else if the total portfolio value is equal to the emergency fund value, display a message congratulating the member on reaching this important financial goal.\n",
    "\n",
    "* Else the total portfolio is less than the emergency fund value, so display a message showing how many dollars away the member is from reaching the goal. (Subtract the total portfolio value from the emergency fund value.)\n"
   ]
  },
  {
   "cell_type": "markdown",
   "metadata": {},
   "source": [
    "##### Step 4-1: Create a variable named `emergency_fund_value`, and set it equal to three times the value of the member’s `monthly_income` of 12000. (You set this earlier in Part 1)."
   ]
  },
  {
   "cell_type": "code",
   "execution_count": 26,
   "metadata": {},
   "outputs": [],
   "source": [
    "# Create a variable named emergency_fund_value\n",
    "emergency_fund_value = 3 * monthly_income\n"
   ]
  },
  {
   "cell_type": "markdown",
   "metadata": {},
   "source": [
    "##### Step 4-2: Create a series of three if statements to determine if the member’s total portfolio is large enough to fund the emergency portfolio:\n",
    "\n",
    "* If the total portfolio value is greater than the emergency fund value, display a message congratulating the member for having enough money in this fund.\n",
    "\n",
    "* Else if the total portfolio value is equal to the emergency fund value, display a message congratulating the member on reaching this important financial goal.\n",
    "\n",
    "* Else the total portfolio is less than the emergency fund value, so display a message showing how many dollars away the member is from reaching the goal. (Subtract the total portfolio value from the emergency fund value.)"
   ]
  },
  {
   "cell_type": "code",
   "execution_count": 27,
   "metadata": {},
   "outputs": [
    {
     "name": "stdout",
     "output_type": "stream",
     "text": [
      "Congratulations! You have saved enough to meet your emergency fund goal, with $ 132031.61 to spare!\n"
     ]
    }
   ],
   "source": [
    "# Evaluate the possibility of creating an emergency fund with 3 conditions:\n",
    "portfolio_fund_difference = (total_portfolio - emergency_fund_value)\n",
    "\n",
    "if total_portfolio > emergency_fund_value:\n",
    "    print(f\"Congratulations! You have saved enough to meet your emergency fund goal, with ${portfolio_fund_difference: .2f} to spare!\")\n",
    "elif total_portfolio == emergency_fund_value:\n",
    "    print(f\"Great job! You have saved enough to meet your emergency fund goal!\")\n",
    "else:\n",
    "    print(f\"Unfortunately, you still need to save ${portfolio_fund_difference*-1: .2f} in order to meet your emergency fund goal.\")\n",
    "\n"
   ]
  },
  {
   "cell_type": "markdown",
   "metadata": {},
   "source": [
    "## Part 2: Create a Financial Planner for Retirement"
   ]
  },
  {
   "cell_type": "markdown",
   "metadata": {},
   "source": [
    "### Create the Monte Carlo Simulation\n",
    "\n",
    "In this section, you’ll use the MCForecastTools library to create a Monte Carlo simulation for the member’s savings portfolio. To do this, complete the following steps:\n",
    "\n",
    "1. Make an API call via the Alpaca SDK to get 3 years of historical closing prices for a traditional 60/40 portfolio split: 60% stocks (SPY) and 40% bonds (AGG).\n",
    "\n",
    "2. Run a Monte Carlo simulation of 500 samples and 30 years for the 60/40 portfolio, and then plot the results.The following image shows the overlay line plot resulting from a simulation with these characteristics. However, because a random number generator is used to run each live Monte Carlo simulation, your image will differ slightly from this exact image:\n",
    "\n",
    "![A screenshot depicts the resulting plot.](Images/5-4-monte-carlo-line-plot.png)\n",
    "\n",
    "3. Plot the probability distribution of the Monte Carlo simulation. Plot the probability distribution of the Monte Carlo simulation. The following image shows the histogram plot resulting from a simulation with these characteristics. However, because a random number generator is used to run each live Monte Carlo simulation, your image will differ slightly from this exact image:\n",
    "\n",
    "![A screenshot depicts the histogram plot.](Images/5-4-monte-carlo-histogram.png)\n",
    "\n",
    "4. Generate the summary statistics for the Monte Carlo simulation.\n",
    "\n"
   ]
  },
  {
   "cell_type": "markdown",
   "metadata": {},
   "source": [
    "#### Step 1: Make an API call via the Alpaca SDK to get 3 years of historical closing prices for a traditional 60/40 portfolio split: 60% stocks (SPY) and 40% bonds (AGG)."
   ]
  },
  {
   "cell_type": "code",
   "execution_count": 28,
   "metadata": {},
   "outputs": [],
   "source": [
    "# Set start and end dates of 3 years back from your current date\n",
    "# Alternatively, you can use an end date of 2020-08-07 and work 3 years back from that date \n",
    "start_date_mc = pd.Timestamp(\"2019-10-20\", tz=\"America/New_York\").isoformat()\n",
    "end_date_mc = pd.Timestamp(\"2021-10-20\", tz=\"America/New_York\").isoformat()\n",
    "\n",
    "# Set number of rows to 1000 to retrieve the maximum amount of rows\n",
    "limit_rows = 1000"
   ]
  },
  {
   "cell_type": "code",
   "execution_count": 29,
   "metadata": {},
   "outputs": [
    {
     "data": {
      "text/html": [
       "<div>\n",
       "<style scoped>\n",
       "    .dataframe tbody tr th:only-of-type {\n",
       "        vertical-align: middle;\n",
       "    }\n",
       "\n",
       "    .dataframe tbody tr th {\n",
       "        vertical-align: top;\n",
       "    }\n",
       "\n",
       "    .dataframe thead tr th {\n",
       "        text-align: left;\n",
       "    }\n",
       "\n",
       "    .dataframe thead tr:last-of-type th {\n",
       "        text-align: right;\n",
       "    }\n",
       "</style>\n",
       "<table border=\"1\" class=\"dataframe\">\n",
       "  <thead>\n",
       "    <tr>\n",
       "      <th></th>\n",
       "      <th colspan=\"5\" halign=\"left\">AGG</th>\n",
       "      <th colspan=\"5\" halign=\"left\">SPY</th>\n",
       "    </tr>\n",
       "    <tr>\n",
       "      <th></th>\n",
       "      <th>open</th>\n",
       "      <th>high</th>\n",
       "      <th>low</th>\n",
       "      <th>close</th>\n",
       "      <th>volume</th>\n",
       "      <th>open</th>\n",
       "      <th>high</th>\n",
       "      <th>low</th>\n",
       "      <th>close</th>\n",
       "      <th>volume</th>\n",
       "    </tr>\n",
       "    <tr>\n",
       "      <th>time</th>\n",
       "      <th></th>\n",
       "      <th></th>\n",
       "      <th></th>\n",
       "      <th></th>\n",
       "      <th></th>\n",
       "      <th></th>\n",
       "      <th></th>\n",
       "      <th></th>\n",
       "      <th></th>\n",
       "      <th></th>\n",
       "    </tr>\n",
       "  </thead>\n",
       "  <tbody>\n",
       "    <tr>\n",
       "      <th>2019-10-21 00:00:00-04:00</th>\n",
       "      <td>112.62</td>\n",
       "      <td>112.7100</td>\n",
       "      <td>112.4900</td>\n",
       "      <td>112.51</td>\n",
       "      <td>2431676</td>\n",
       "      <td>299.42</td>\n",
       "      <td>300.21</td>\n",
       "      <td>298.9350</td>\n",
       "      <td>300.050</td>\n",
       "      <td>29676133</td>\n",
       "    </tr>\n",
       "    <tr>\n",
       "      <th>2019-10-22 00:00:00-04:00</th>\n",
       "      <td>112.65</td>\n",
       "      <td>112.7375</td>\n",
       "      <td>112.5100</td>\n",
       "      <td>112.66</td>\n",
       "      <td>1889075</td>\n",
       "      <td>300.58</td>\n",
       "      <td>300.90</td>\n",
       "      <td>298.9100</td>\n",
       "      <td>299.030</td>\n",
       "      <td>42747335</td>\n",
       "    </tr>\n",
       "    <tr>\n",
       "      <th>2019-10-23 00:00:00-04:00</th>\n",
       "      <td>112.82</td>\n",
       "      <td>112.8800</td>\n",
       "      <td>112.7300</td>\n",
       "      <td>112.73</td>\n",
       "      <td>1787456</td>\n",
       "      <td>298.73</td>\n",
       "      <td>299.94</td>\n",
       "      <td>298.4950</td>\n",
       "      <td>299.860</td>\n",
       "      <td>27944600</td>\n",
       "    </tr>\n",
       "    <tr>\n",
       "      <th>2019-10-24 00:00:00-04:00</th>\n",
       "      <td>112.84</td>\n",
       "      <td>112.9459</td>\n",
       "      <td>112.7500</td>\n",
       "      <td>112.77</td>\n",
       "      <td>1589781</td>\n",
       "      <td>300.91</td>\n",
       "      <td>301.07</td>\n",
       "      <td>299.4601</td>\n",
       "      <td>300.420</td>\n",
       "      <td>29850958</td>\n",
       "    </tr>\n",
       "    <tr>\n",
       "      <th>2019-10-25 00:00:00-04:00</th>\n",
       "      <td>112.84</td>\n",
       "      <td>112.8500</td>\n",
       "      <td>112.5229</td>\n",
       "      <td>112.62</td>\n",
       "      <td>2325950</td>\n",
       "      <td>299.74</td>\n",
       "      <td>302.20</td>\n",
       "      <td>299.6806</td>\n",
       "      <td>301.565</td>\n",
       "      <td>36933520</td>\n",
       "    </tr>\n",
       "  </tbody>\n",
       "</table>\n",
       "</div>"
      ],
      "text/plain": [
       "                              AGG                                       \\\n",
       "                             open      high       low   close   volume   \n",
       "time                                                                     \n",
       "2019-10-21 00:00:00-04:00  112.62  112.7100  112.4900  112.51  2431676   \n",
       "2019-10-22 00:00:00-04:00  112.65  112.7375  112.5100  112.66  1889075   \n",
       "2019-10-23 00:00:00-04:00  112.82  112.8800  112.7300  112.73  1787456   \n",
       "2019-10-24 00:00:00-04:00  112.84  112.9459  112.7500  112.77  1589781   \n",
       "2019-10-25 00:00:00-04:00  112.84  112.8500  112.5229  112.62  2325950   \n",
       "\n",
       "                              SPY                                       \n",
       "                             open    high       low    close    volume  \n",
       "time                                                                    \n",
       "2019-10-21 00:00:00-04:00  299.42  300.21  298.9350  300.050  29676133  \n",
       "2019-10-22 00:00:00-04:00  300.58  300.90  298.9100  299.030  42747335  \n",
       "2019-10-23 00:00:00-04:00  298.73  299.94  298.4950  299.860  27944600  \n",
       "2019-10-24 00:00:00-04:00  300.91  301.07  299.4601  300.420  29850958  \n",
       "2019-10-25 00:00:00-04:00  299.74  302.20  299.6806  301.565  36933520  "
      ]
     },
     "metadata": {},
     "output_type": "display_data"
    },
    {
     "data": {
      "text/html": [
       "<div>\n",
       "<style scoped>\n",
       "    .dataframe tbody tr th:only-of-type {\n",
       "        vertical-align: middle;\n",
       "    }\n",
       "\n",
       "    .dataframe tbody tr th {\n",
       "        vertical-align: top;\n",
       "    }\n",
       "\n",
       "    .dataframe thead tr th {\n",
       "        text-align: left;\n",
       "    }\n",
       "\n",
       "    .dataframe thead tr:last-of-type th {\n",
       "        text-align: right;\n",
       "    }\n",
       "</style>\n",
       "<table border=\"1\" class=\"dataframe\">\n",
       "  <thead>\n",
       "    <tr>\n",
       "      <th></th>\n",
       "      <th colspan=\"5\" halign=\"left\">AGG</th>\n",
       "      <th colspan=\"5\" halign=\"left\">SPY</th>\n",
       "    </tr>\n",
       "    <tr>\n",
       "      <th></th>\n",
       "      <th>open</th>\n",
       "      <th>high</th>\n",
       "      <th>low</th>\n",
       "      <th>close</th>\n",
       "      <th>volume</th>\n",
       "      <th>open</th>\n",
       "      <th>high</th>\n",
       "      <th>low</th>\n",
       "      <th>close</th>\n",
       "      <th>volume</th>\n",
       "    </tr>\n",
       "    <tr>\n",
       "      <th>time</th>\n",
       "      <th></th>\n",
       "      <th></th>\n",
       "      <th></th>\n",
       "      <th></th>\n",
       "      <th></th>\n",
       "      <th></th>\n",
       "      <th></th>\n",
       "      <th></th>\n",
       "      <th></th>\n",
       "      <th></th>\n",
       "    </tr>\n",
       "  </thead>\n",
       "  <tbody>\n",
       "    <tr>\n",
       "      <th>2021-10-14 00:00:00-04:00</th>\n",
       "      <td>114.70</td>\n",
       "      <td>114.8496</td>\n",
       "      <td>114.63</td>\n",
       "      <td>114.84</td>\n",
       "      <td>3540673</td>\n",
       "      <td>439.08</td>\n",
       "      <td>442.660</td>\n",
       "      <td>438.58</td>\n",
       "      <td>442.47</td>\n",
       "      <td>59812568</td>\n",
       "    </tr>\n",
       "    <tr>\n",
       "      <th>2021-10-15 00:00:00-04:00</th>\n",
       "      <td>114.61</td>\n",
       "      <td>114.6300</td>\n",
       "      <td>114.51</td>\n",
       "      <td>114.56</td>\n",
       "      <td>3829388</td>\n",
       "      <td>444.76</td>\n",
       "      <td>446.260</td>\n",
       "      <td>444.09</td>\n",
       "      <td>445.83</td>\n",
       "      <td>55980388</td>\n",
       "    </tr>\n",
       "    <tr>\n",
       "      <th>2021-10-18 00:00:00-04:00</th>\n",
       "      <td>114.33</td>\n",
       "      <td>114.5600</td>\n",
       "      <td>114.25</td>\n",
       "      <td>114.49</td>\n",
       "      <td>5145953</td>\n",
       "      <td>443.97</td>\n",
       "      <td>447.550</td>\n",
       "      <td>443.27</td>\n",
       "      <td>447.22</td>\n",
       "      <td>51994387</td>\n",
       "    </tr>\n",
       "    <tr>\n",
       "      <th>2021-10-19 00:00:00-04:00</th>\n",
       "      <td>114.37</td>\n",
       "      <td>114.3700</td>\n",
       "      <td>114.16</td>\n",
       "      <td>114.18</td>\n",
       "      <td>3999066</td>\n",
       "      <td>448.92</td>\n",
       "      <td>450.700</td>\n",
       "      <td>448.27</td>\n",
       "      <td>450.68</td>\n",
       "      <td>40790864</td>\n",
       "    </tr>\n",
       "    <tr>\n",
       "      <th>2021-10-20 00:00:00-04:00</th>\n",
       "      <td>114.17</td>\n",
       "      <td>114.2900</td>\n",
       "      <td>114.06</td>\n",
       "      <td>114.07</td>\n",
       "      <td>5881766</td>\n",
       "      <td>451.13</td>\n",
       "      <td>452.732</td>\n",
       "      <td>451.01</td>\n",
       "      <td>452.39</td>\n",
       "      <td>41594298</td>\n",
       "    </tr>\n",
       "  </tbody>\n",
       "</table>\n",
       "</div>"
      ],
      "text/plain": [
       "                              AGG                                        SPY  \\\n",
       "                             open      high     low   close   volume    open   \n",
       "time                                                                           \n",
       "2021-10-14 00:00:00-04:00  114.70  114.8496  114.63  114.84  3540673  439.08   \n",
       "2021-10-15 00:00:00-04:00  114.61  114.6300  114.51  114.56  3829388  444.76   \n",
       "2021-10-18 00:00:00-04:00  114.33  114.5600  114.25  114.49  5145953  443.97   \n",
       "2021-10-19 00:00:00-04:00  114.37  114.3700  114.16  114.18  3999066  448.92   \n",
       "2021-10-20 00:00:00-04:00  114.17  114.2900  114.06  114.07  5881766  451.13   \n",
       "\n",
       "                                                              \n",
       "                              high     low   close    volume  \n",
       "time                                                          \n",
       "2021-10-14 00:00:00-04:00  442.660  438.58  442.47  59812568  \n",
       "2021-10-15 00:00:00-04:00  446.260  444.09  445.83  55980388  \n",
       "2021-10-18 00:00:00-04:00  447.550  443.27  447.22  51994387  \n",
       "2021-10-19 00:00:00-04:00  450.700  448.27  450.68  40790864  \n",
       "2021-10-20 00:00:00-04:00  452.732  451.01  452.39  41594298  "
      ]
     },
     "metadata": {},
     "output_type": "display_data"
    }
   ],
   "source": [
    "# Use the Alpaca get_barset function to make the API call to get the 3 years worth of pricing data\n",
    "# The tickers and timeframe parameters should have been set in Part 1 of this activity \n",
    "# The start and end dates should be updated with the information set above\n",
    "# Remember to add the df property to the end of the call so the response is returned as a DataFrame\n",
    "portfolio_mc_simulation_df = alpaca.get_barset(\n",
    "    tickers,\n",
    "    timeframe,\n",
    "    start = start_date_mc,\n",
    "    end = end_date_mc,\n",
    "    limit = limit_rows\n",
    ").df\n",
    "\n",
    "\n",
    "# Display both the first and last five rows of the DataFrame\n",
    "display(portfolio_mc_simulation_df.head())\n",
    "display(portfolio_mc_simulation_df.tail())\n"
   ]
  },
  {
   "cell_type": "markdown",
   "metadata": {},
   "source": [
    "#### Step 2: Run a Monte Carlo simulation of 500 samples and 30 years for the 60/40 portfolio, and then plot the results."
   ]
  },
  {
   "cell_type": "code",
   "execution_count": 30,
   "metadata": {},
   "outputs": [
    {
     "data": {
      "text/html": [
       "<div>\n",
       "<style scoped>\n",
       "    .dataframe tbody tr th:only-of-type {\n",
       "        vertical-align: middle;\n",
       "    }\n",
       "\n",
       "    .dataframe tbody tr th {\n",
       "        vertical-align: top;\n",
       "    }\n",
       "\n",
       "    .dataframe thead tr th {\n",
       "        text-align: left;\n",
       "    }\n",
       "\n",
       "    .dataframe thead tr:last-of-type th {\n",
       "        text-align: right;\n",
       "    }\n",
       "</style>\n",
       "<table border=\"1\" class=\"dataframe\">\n",
       "  <thead>\n",
       "    <tr>\n",
       "      <th></th>\n",
       "      <th colspan=\"6\" halign=\"left\">AGG</th>\n",
       "      <th colspan=\"6\" halign=\"left\">SPY</th>\n",
       "    </tr>\n",
       "    <tr>\n",
       "      <th></th>\n",
       "      <th>open</th>\n",
       "      <th>high</th>\n",
       "      <th>low</th>\n",
       "      <th>close</th>\n",
       "      <th>volume</th>\n",
       "      <th>daily_return</th>\n",
       "      <th>open</th>\n",
       "      <th>high</th>\n",
       "      <th>low</th>\n",
       "      <th>close</th>\n",
       "      <th>volume</th>\n",
       "      <th>daily_return</th>\n",
       "    </tr>\n",
       "    <tr>\n",
       "      <th>time</th>\n",
       "      <th></th>\n",
       "      <th></th>\n",
       "      <th></th>\n",
       "      <th></th>\n",
       "      <th></th>\n",
       "      <th></th>\n",
       "      <th></th>\n",
       "      <th></th>\n",
       "      <th></th>\n",
       "      <th></th>\n",
       "      <th></th>\n",
       "      <th></th>\n",
       "    </tr>\n",
       "  </thead>\n",
       "  <tbody>\n",
       "    <tr>\n",
       "      <th>2019-10-21 00:00:00-04:00</th>\n",
       "      <td>112.62</td>\n",
       "      <td>112.7100</td>\n",
       "      <td>112.4900</td>\n",
       "      <td>112.51</td>\n",
       "      <td>2431676</td>\n",
       "      <td>NaN</td>\n",
       "      <td>299.42</td>\n",
       "      <td>300.21</td>\n",
       "      <td>298.9350</td>\n",
       "      <td>300.050</td>\n",
       "      <td>29676133</td>\n",
       "      <td>NaN</td>\n",
       "    </tr>\n",
       "    <tr>\n",
       "      <th>2019-10-22 00:00:00-04:00</th>\n",
       "      <td>112.65</td>\n",
       "      <td>112.7375</td>\n",
       "      <td>112.5100</td>\n",
       "      <td>112.66</td>\n",
       "      <td>1889075</td>\n",
       "      <td>0.001333</td>\n",
       "      <td>300.58</td>\n",
       "      <td>300.90</td>\n",
       "      <td>298.9100</td>\n",
       "      <td>299.030</td>\n",
       "      <td>42747335</td>\n",
       "      <td>-0.003399</td>\n",
       "    </tr>\n",
       "    <tr>\n",
       "      <th>2019-10-23 00:00:00-04:00</th>\n",
       "      <td>112.82</td>\n",
       "      <td>112.8800</td>\n",
       "      <td>112.7300</td>\n",
       "      <td>112.73</td>\n",
       "      <td>1787456</td>\n",
       "      <td>0.000621</td>\n",
       "      <td>298.73</td>\n",
       "      <td>299.94</td>\n",
       "      <td>298.4950</td>\n",
       "      <td>299.860</td>\n",
       "      <td>27944600</td>\n",
       "      <td>0.002776</td>\n",
       "    </tr>\n",
       "    <tr>\n",
       "      <th>2019-10-24 00:00:00-04:00</th>\n",
       "      <td>112.84</td>\n",
       "      <td>112.9459</td>\n",
       "      <td>112.7500</td>\n",
       "      <td>112.77</td>\n",
       "      <td>1589781</td>\n",
       "      <td>0.000355</td>\n",
       "      <td>300.91</td>\n",
       "      <td>301.07</td>\n",
       "      <td>299.4601</td>\n",
       "      <td>300.420</td>\n",
       "      <td>29850958</td>\n",
       "      <td>0.001868</td>\n",
       "    </tr>\n",
       "    <tr>\n",
       "      <th>2019-10-25 00:00:00-04:00</th>\n",
       "      <td>112.84</td>\n",
       "      <td>112.8500</td>\n",
       "      <td>112.5229</td>\n",
       "      <td>112.62</td>\n",
       "      <td>2325950</td>\n",
       "      <td>-0.001330</td>\n",
       "      <td>299.74</td>\n",
       "      <td>302.20</td>\n",
       "      <td>299.6806</td>\n",
       "      <td>301.565</td>\n",
       "      <td>36933520</td>\n",
       "      <td>0.003811</td>\n",
       "    </tr>\n",
       "  </tbody>\n",
       "</table>\n",
       "</div>"
      ],
      "text/plain": [
       "                              AGG                                       \\\n",
       "                             open      high       low   close   volume   \n",
       "time                                                                     \n",
       "2019-10-21 00:00:00-04:00  112.62  112.7100  112.4900  112.51  2431676   \n",
       "2019-10-22 00:00:00-04:00  112.65  112.7375  112.5100  112.66  1889075   \n",
       "2019-10-23 00:00:00-04:00  112.82  112.8800  112.7300  112.73  1787456   \n",
       "2019-10-24 00:00:00-04:00  112.84  112.9459  112.7500  112.77  1589781   \n",
       "2019-10-25 00:00:00-04:00  112.84  112.8500  112.5229  112.62  2325950   \n",
       "\n",
       "                                           SPY                             \\\n",
       "                          daily_return    open    high       low    close   \n",
       "time                                                                        \n",
       "2019-10-21 00:00:00-04:00          NaN  299.42  300.21  298.9350  300.050   \n",
       "2019-10-22 00:00:00-04:00     0.001333  300.58  300.90  298.9100  299.030   \n",
       "2019-10-23 00:00:00-04:00     0.000621  298.73  299.94  298.4950  299.860   \n",
       "2019-10-24 00:00:00-04:00     0.000355  300.91  301.07  299.4601  300.420   \n",
       "2019-10-25 00:00:00-04:00    -0.001330  299.74  302.20  299.6806  301.565   \n",
       "\n",
       "                                                  \n",
       "                             volume daily_return  \n",
       "time                                              \n",
       "2019-10-21 00:00:00-04:00  29676133          NaN  \n",
       "2019-10-22 00:00:00-04:00  42747335    -0.003399  \n",
       "2019-10-23 00:00:00-04:00  27944600     0.002776  \n",
       "2019-10-24 00:00:00-04:00  29850958     0.001868  \n",
       "2019-10-25 00:00:00-04:00  36933520     0.003811  "
      ]
     },
     "execution_count": 30,
     "metadata": {},
     "output_type": "execute_result"
    }
   ],
   "source": [
    "# Configure the Monte Carlo simulation to forecast 30 years cumulative returns\n",
    "# The weights should be split 40% to AGG and 60% to SPY.\n",
    "# Run 500 samples.\n",
    "MC_even_weight = MCSimulation(\n",
    "    portfolio_data = portfolio_mc_simulation_df,\n",
    "    weights = [.4,.6],\n",
    "    num_simulation = 500, \n",
    "    num_trading_days = 252*30\n",
    ")\n",
    "\n",
    "# Review the simulation input data\n",
    "MC_even_weight.portfolio_data.head()\n"
   ]
  },
  {
   "cell_type": "code",
   "execution_count": 31,
   "metadata": {},
   "outputs": [
    {
     "name": "stdout",
     "output_type": "stream",
     "text": [
      "Running Monte Carlo simulation number 0.\n",
      "Running Monte Carlo simulation number 10.\n",
      "Running Monte Carlo simulation number 20.\n",
      "Running Monte Carlo simulation number 30.\n",
      "Running Monte Carlo simulation number 40.\n",
      "Running Monte Carlo simulation number 50.\n",
      "Running Monte Carlo simulation number 60.\n",
      "Running Monte Carlo simulation number 70.\n",
      "Running Monte Carlo simulation number 80.\n",
      "Running Monte Carlo simulation number 90.\n",
      "Running Monte Carlo simulation number 100.\n",
      "Running Monte Carlo simulation number 110.\n",
      "Running Monte Carlo simulation number 120.\n",
      "Running Monte Carlo simulation number 130.\n",
      "Running Monte Carlo simulation number 140.\n",
      "Running Monte Carlo simulation number 150.\n",
      "Running Monte Carlo simulation number 160.\n",
      "Running Monte Carlo simulation number 170.\n",
      "Running Monte Carlo simulation number 180.\n",
      "Running Monte Carlo simulation number 190.\n",
      "Running Monte Carlo simulation number 200.\n",
      "Running Monte Carlo simulation number 210.\n",
      "Running Monte Carlo simulation number 220.\n",
      "Running Monte Carlo simulation number 230.\n",
      "Running Monte Carlo simulation number 240.\n",
      "Running Monte Carlo simulation number 250.\n",
      "Running Monte Carlo simulation number 260.\n",
      "Running Monte Carlo simulation number 270.\n",
      "Running Monte Carlo simulation number 280.\n",
      "Running Monte Carlo simulation number 290.\n",
      "Running Monte Carlo simulation number 300.\n",
      "Running Monte Carlo simulation number 310.\n",
      "Running Monte Carlo simulation number 320.\n",
      "Running Monte Carlo simulation number 330.\n",
      "Running Monte Carlo simulation number 340.\n",
      "Running Monte Carlo simulation number 350.\n",
      "Running Monte Carlo simulation number 360.\n",
      "Running Monte Carlo simulation number 370.\n",
      "Running Monte Carlo simulation number 380.\n",
      "Running Monte Carlo simulation number 390.\n",
      "Running Monte Carlo simulation number 400.\n",
      "Running Monte Carlo simulation number 410.\n",
      "Running Monte Carlo simulation number 420.\n",
      "Running Monte Carlo simulation number 430.\n",
      "Running Monte Carlo simulation number 440.\n",
      "Running Monte Carlo simulation number 450.\n",
      "Running Monte Carlo simulation number 460.\n",
      "Running Monte Carlo simulation number 470.\n",
      "Running Monte Carlo simulation number 480.\n",
      "Running Monte Carlo simulation number 490.\n"
     ]
    },
    {
     "data": {
      "text/html": [
       "<div>\n",
       "<style scoped>\n",
       "    .dataframe tbody tr th:only-of-type {\n",
       "        vertical-align: middle;\n",
       "    }\n",
       "\n",
       "    .dataframe tbody tr th {\n",
       "        vertical-align: top;\n",
       "    }\n",
       "\n",
       "    .dataframe thead th {\n",
       "        text-align: right;\n",
       "    }\n",
       "</style>\n",
       "<table border=\"1\" class=\"dataframe\">\n",
       "  <thead>\n",
       "    <tr style=\"text-align: right;\">\n",
       "      <th></th>\n",
       "      <th>0</th>\n",
       "      <th>1</th>\n",
       "      <th>2</th>\n",
       "      <th>3</th>\n",
       "      <th>4</th>\n",
       "      <th>5</th>\n",
       "      <th>6</th>\n",
       "      <th>7</th>\n",
       "      <th>8</th>\n",
       "      <th>9</th>\n",
       "      <th>...</th>\n",
       "      <th>490</th>\n",
       "      <th>491</th>\n",
       "      <th>492</th>\n",
       "      <th>493</th>\n",
       "      <th>494</th>\n",
       "      <th>495</th>\n",
       "      <th>496</th>\n",
       "      <th>497</th>\n",
       "      <th>498</th>\n",
       "      <th>499</th>\n",
       "    </tr>\n",
       "  </thead>\n",
       "  <tbody>\n",
       "    <tr>\n",
       "      <th>0</th>\n",
       "      <td>1.000000</td>\n",
       "      <td>1.000000</td>\n",
       "      <td>1.000000</td>\n",
       "      <td>1.000000</td>\n",
       "      <td>1.000000</td>\n",
       "      <td>1.000000</td>\n",
       "      <td>1.000000</td>\n",
       "      <td>1.000000</td>\n",
       "      <td>1.000000</td>\n",
       "      <td>1.000000</td>\n",
       "      <td>...</td>\n",
       "      <td>1.000000</td>\n",
       "      <td>1.000000</td>\n",
       "      <td>1.000000</td>\n",
       "      <td>1.000000</td>\n",
       "      <td>1.000000</td>\n",
       "      <td>1.000000</td>\n",
       "      <td>1.000000</td>\n",
       "      <td>1.000000</td>\n",
       "      <td>1.000000</td>\n",
       "      <td>1.000000</td>\n",
       "    </tr>\n",
       "    <tr>\n",
       "      <th>1</th>\n",
       "      <td>1.014183</td>\n",
       "      <td>1.003897</td>\n",
       "      <td>1.003060</td>\n",
       "      <td>1.017564</td>\n",
       "      <td>0.987160</td>\n",
       "      <td>1.004576</td>\n",
       "      <td>0.986693</td>\n",
       "      <td>0.995417</td>\n",
       "      <td>0.998968</td>\n",
       "      <td>0.982011</td>\n",
       "      <td>...</td>\n",
       "      <td>1.000685</td>\n",
       "      <td>1.013197</td>\n",
       "      <td>1.008902</td>\n",
       "      <td>1.014144</td>\n",
       "      <td>0.990167</td>\n",
       "      <td>0.992838</td>\n",
       "      <td>0.991802</td>\n",
       "      <td>0.998401</td>\n",
       "      <td>1.001860</td>\n",
       "      <td>0.987996</td>\n",
       "    </tr>\n",
       "    <tr>\n",
       "      <th>2</th>\n",
       "      <td>1.024401</td>\n",
       "      <td>1.008584</td>\n",
       "      <td>1.007686</td>\n",
       "      <td>1.023385</td>\n",
       "      <td>0.994330</td>\n",
       "      <td>1.002636</td>\n",
       "      <td>0.987245</td>\n",
       "      <td>0.994506</td>\n",
       "      <td>1.004452</td>\n",
       "      <td>0.987859</td>\n",
       "      <td>...</td>\n",
       "      <td>1.001744</td>\n",
       "      <td>1.011713</td>\n",
       "      <td>1.011820</td>\n",
       "      <td>1.025650</td>\n",
       "      <td>0.992559</td>\n",
       "      <td>0.980802</td>\n",
       "      <td>0.988569</td>\n",
       "      <td>1.014181</td>\n",
       "      <td>0.997840</td>\n",
       "      <td>0.995770</td>\n",
       "    </tr>\n",
       "    <tr>\n",
       "      <th>3</th>\n",
       "      <td>1.036175</td>\n",
       "      <td>1.025658</td>\n",
       "      <td>1.016137</td>\n",
       "      <td>1.031753</td>\n",
       "      <td>1.005295</td>\n",
       "      <td>0.995833</td>\n",
       "      <td>0.979754</td>\n",
       "      <td>0.987095</td>\n",
       "      <td>1.002459</td>\n",
       "      <td>0.993537</td>\n",
       "      <td>...</td>\n",
       "      <td>0.993175</td>\n",
       "      <td>0.994941</td>\n",
       "      <td>1.005771</td>\n",
       "      <td>1.024617</td>\n",
       "      <td>0.989986</td>\n",
       "      <td>0.990290</td>\n",
       "      <td>0.975205</td>\n",
       "      <td>1.003996</td>\n",
       "      <td>0.979259</td>\n",
       "      <td>1.002703</td>\n",
       "    </tr>\n",
       "    <tr>\n",
       "      <th>4</th>\n",
       "      <td>1.061266</td>\n",
       "      <td>1.010182</td>\n",
       "      <td>1.024965</td>\n",
       "      <td>1.049431</td>\n",
       "      <td>1.004717</td>\n",
       "      <td>0.985153</td>\n",
       "      <td>0.986832</td>\n",
       "      <td>0.988839</td>\n",
       "      <td>1.013793</td>\n",
       "      <td>0.969249</td>\n",
       "      <td>...</td>\n",
       "      <td>1.000951</td>\n",
       "      <td>0.995991</td>\n",
       "      <td>0.989879</td>\n",
       "      <td>1.028147</td>\n",
       "      <td>0.980002</td>\n",
       "      <td>0.994160</td>\n",
       "      <td>0.988507</td>\n",
       "      <td>1.013819</td>\n",
       "      <td>0.971915</td>\n",
       "      <td>0.999993</td>\n",
       "    </tr>\n",
       "    <tr>\n",
       "      <th>...</th>\n",
       "      <td>...</td>\n",
       "      <td>...</td>\n",
       "      <td>...</td>\n",
       "      <td>...</td>\n",
       "      <td>...</td>\n",
       "      <td>...</td>\n",
       "      <td>...</td>\n",
       "      <td>...</td>\n",
       "      <td>...</td>\n",
       "      <td>...</td>\n",
       "      <td>...</td>\n",
       "      <td>...</td>\n",
       "      <td>...</td>\n",
       "      <td>...</td>\n",
       "      <td>...</td>\n",
       "      <td>...</td>\n",
       "      <td>...</td>\n",
       "      <td>...</td>\n",
       "      <td>...</td>\n",
       "      <td>...</td>\n",
       "      <td>...</td>\n",
       "    </tr>\n",
       "    <tr>\n",
       "      <th>7556</th>\n",
       "      <td>57.149086</td>\n",
       "      <td>110.175984</td>\n",
       "      <td>68.032543</td>\n",
       "      <td>57.745386</td>\n",
       "      <td>63.477625</td>\n",
       "      <td>103.334532</td>\n",
       "      <td>22.985627</td>\n",
       "      <td>125.928563</td>\n",
       "      <td>45.719624</td>\n",
       "      <td>54.829227</td>\n",
       "      <td>...</td>\n",
       "      <td>49.444605</td>\n",
       "      <td>95.208127</td>\n",
       "      <td>371.987882</td>\n",
       "      <td>62.865125</td>\n",
       "      <td>26.516527</td>\n",
       "      <td>50.775715</td>\n",
       "      <td>32.595561</td>\n",
       "      <td>58.341167</td>\n",
       "      <td>11.580164</td>\n",
       "      <td>107.214758</td>\n",
       "    </tr>\n",
       "    <tr>\n",
       "      <th>7557</th>\n",
       "      <td>56.799660</td>\n",
       "      <td>110.210895</td>\n",
       "      <td>67.855427</td>\n",
       "      <td>57.249919</td>\n",
       "      <td>63.240679</td>\n",
       "      <td>104.887859</td>\n",
       "      <td>23.455147</td>\n",
       "      <td>127.954309</td>\n",
       "      <td>45.775984</td>\n",
       "      <td>55.387497</td>\n",
       "      <td>...</td>\n",
       "      <td>49.328505</td>\n",
       "      <td>92.894582</td>\n",
       "      <td>369.595485</td>\n",
       "      <td>61.275091</td>\n",
       "      <td>26.586714</td>\n",
       "      <td>50.660542</td>\n",
       "      <td>32.099137</td>\n",
       "      <td>57.484895</td>\n",
       "      <td>11.639331</td>\n",
       "      <td>107.396025</td>\n",
       "    </tr>\n",
       "    <tr>\n",
       "      <th>7558</th>\n",
       "      <td>56.783802</td>\n",
       "      <td>110.463141</td>\n",
       "      <td>67.530767</td>\n",
       "      <td>56.188341</td>\n",
       "      <td>62.288684</td>\n",
       "      <td>104.407713</td>\n",
       "      <td>23.471915</td>\n",
       "      <td>127.422327</td>\n",
       "      <td>45.866996</td>\n",
       "      <td>55.750738</td>\n",
       "      <td>...</td>\n",
       "      <td>49.235451</td>\n",
       "      <td>93.550048</td>\n",
       "      <td>371.778078</td>\n",
       "      <td>61.218300</td>\n",
       "      <td>27.035297</td>\n",
       "      <td>50.680290</td>\n",
       "      <td>32.304795</td>\n",
       "      <td>57.360724</td>\n",
       "      <td>11.416777</td>\n",
       "      <td>107.226134</td>\n",
       "    </tr>\n",
       "    <tr>\n",
       "      <th>7559</th>\n",
       "      <td>57.093943</td>\n",
       "      <td>111.376966</td>\n",
       "      <td>68.319605</td>\n",
       "      <td>56.436103</td>\n",
       "      <td>62.466451</td>\n",
       "      <td>103.786582</td>\n",
       "      <td>23.279385</td>\n",
       "      <td>127.966017</td>\n",
       "      <td>46.085145</td>\n",
       "      <td>56.002158</td>\n",
       "      <td>...</td>\n",
       "      <td>49.561610</td>\n",
       "      <td>92.606591</td>\n",
       "      <td>370.883856</td>\n",
       "      <td>61.378048</td>\n",
       "      <td>27.341815</td>\n",
       "      <td>51.147771</td>\n",
       "      <td>32.070531</td>\n",
       "      <td>57.432303</td>\n",
       "      <td>11.280820</td>\n",
       "      <td>106.111003</td>\n",
       "    </tr>\n",
       "    <tr>\n",
       "      <th>7560</th>\n",
       "      <td>57.187721</td>\n",
       "      <td>110.838221</td>\n",
       "      <td>69.282542</td>\n",
       "      <td>55.884150</td>\n",
       "      <td>63.259236</td>\n",
       "      <td>103.232717</td>\n",
       "      <td>23.592877</td>\n",
       "      <td>129.550991</td>\n",
       "      <td>45.051182</td>\n",
       "      <td>56.481593</td>\n",
       "      <td>...</td>\n",
       "      <td>49.479777</td>\n",
       "      <td>93.231302</td>\n",
       "      <td>373.939227</td>\n",
       "      <td>61.389238</td>\n",
       "      <td>27.090837</td>\n",
       "      <td>50.592548</td>\n",
       "      <td>31.663379</td>\n",
       "      <td>58.304060</td>\n",
       "      <td>11.397069</td>\n",
       "      <td>105.895675</td>\n",
       "    </tr>\n",
       "  </tbody>\n",
       "</table>\n",
       "<p>7561 rows × 500 columns</p>\n",
       "</div>"
      ],
      "text/plain": [
       "            0           1          2          3          4           5    \\\n",
       "0      1.000000    1.000000   1.000000   1.000000   1.000000    1.000000   \n",
       "1      1.014183    1.003897   1.003060   1.017564   0.987160    1.004576   \n",
       "2      1.024401    1.008584   1.007686   1.023385   0.994330    1.002636   \n",
       "3      1.036175    1.025658   1.016137   1.031753   1.005295    0.995833   \n",
       "4      1.061266    1.010182   1.024965   1.049431   1.004717    0.985153   \n",
       "...         ...         ...        ...        ...        ...         ...   \n",
       "7556  57.149086  110.175984  68.032543  57.745386  63.477625  103.334532   \n",
       "7557  56.799660  110.210895  67.855427  57.249919  63.240679  104.887859   \n",
       "7558  56.783802  110.463141  67.530767  56.188341  62.288684  104.407713   \n",
       "7559  57.093943  111.376966  68.319605  56.436103  62.466451  103.786582   \n",
       "7560  57.187721  110.838221  69.282542  55.884150  63.259236  103.232717   \n",
       "\n",
       "            6           7          8          9    ...        490        491  \\\n",
       "0      1.000000    1.000000   1.000000   1.000000  ...   1.000000   1.000000   \n",
       "1      0.986693    0.995417   0.998968   0.982011  ...   1.000685   1.013197   \n",
       "2      0.987245    0.994506   1.004452   0.987859  ...   1.001744   1.011713   \n",
       "3      0.979754    0.987095   1.002459   0.993537  ...   0.993175   0.994941   \n",
       "4      0.986832    0.988839   1.013793   0.969249  ...   1.000951   0.995991   \n",
       "...         ...         ...        ...        ...  ...        ...        ...   \n",
       "7556  22.985627  125.928563  45.719624  54.829227  ...  49.444605  95.208127   \n",
       "7557  23.455147  127.954309  45.775984  55.387497  ...  49.328505  92.894582   \n",
       "7558  23.471915  127.422327  45.866996  55.750738  ...  49.235451  93.550048   \n",
       "7559  23.279385  127.966017  46.085145  56.002158  ...  49.561610  92.606591   \n",
       "7560  23.592877  129.550991  45.051182  56.481593  ...  49.479777  93.231302   \n",
       "\n",
       "             492        493        494        495        496        497  \\\n",
       "0       1.000000   1.000000   1.000000   1.000000   1.000000   1.000000   \n",
       "1       1.008902   1.014144   0.990167   0.992838   0.991802   0.998401   \n",
       "2       1.011820   1.025650   0.992559   0.980802   0.988569   1.014181   \n",
       "3       1.005771   1.024617   0.989986   0.990290   0.975205   1.003996   \n",
       "4       0.989879   1.028147   0.980002   0.994160   0.988507   1.013819   \n",
       "...          ...        ...        ...        ...        ...        ...   \n",
       "7556  371.987882  62.865125  26.516527  50.775715  32.595561  58.341167   \n",
       "7557  369.595485  61.275091  26.586714  50.660542  32.099137  57.484895   \n",
       "7558  371.778078  61.218300  27.035297  50.680290  32.304795  57.360724   \n",
       "7559  370.883856  61.378048  27.341815  51.147771  32.070531  57.432303   \n",
       "7560  373.939227  61.389238  27.090837  50.592548  31.663379  58.304060   \n",
       "\n",
       "            498         499  \n",
       "0      1.000000    1.000000  \n",
       "1      1.001860    0.987996  \n",
       "2      0.997840    0.995770  \n",
       "3      0.979259    1.002703  \n",
       "4      0.971915    0.999993  \n",
       "...         ...         ...  \n",
       "7556  11.580164  107.214758  \n",
       "7557  11.639331  107.396025  \n",
       "7558  11.416777  107.226134  \n",
       "7559  11.280820  106.111003  \n",
       "7560  11.397069  105.895675  \n",
       "\n",
       "[7561 rows x 500 columns]"
      ]
     },
     "execution_count": 31,
     "metadata": {},
     "output_type": "execute_result"
    }
   ],
   "source": [
    "# Run the Monte Carlo simulation to forecast 30 years cumulative returns\n",
    "MC_even_weight.calc_cumulative_return()\n"
   ]
  },
  {
   "cell_type": "code",
   "execution_count": 32,
   "metadata": {},
   "outputs": [
    {
     "data": {
      "image/png": "[encoded data removed]",
      "text/plain": [
       "<Figure size 432x288 with 1 Axes>"
      ]
     },
     "metadata": {
      "needs_background": "light"
     },
     "output_type": "display_data"
    }
   ],
   "source": [
    "# Visualize the 30-year Monte Carlo simulation by creating an\n",
    "# overlay line plot\n",
    "even_weight_line_plot = MC_even_weight.plot_simulation()\n"
   ]
  },
  {
   "cell_type": "markdown",
   "metadata": {},
   "source": [
    "#### Step 3: Plot the probability distribution of the Monte Carlo simulation."
   ]
  },
  {
   "cell_type": "code",
   "execution_count": 33,
   "metadata": {},
   "outputs": [
    {
     "data": {
      "image/png": "[encoded data removed]",
      "text/plain": [
       "<Figure size 432x288 with 1 Axes>"
      ]
     },
     "metadata": {
      "needs_background": "light"
     },
     "output_type": "display_data"
    }
   ],
   "source": [
    "# Visualize the probability distribution of the 30-year Monte Carlo simulation \n",
    "# by plotting a histogram\n",
    "even_weight_plot_distribution = MC_even_weight.plot_distribution()\n"
   ]
  },
  {
   "cell_type": "markdown",
   "metadata": {},
   "source": [
    "#### Step 4: Generate the summary statistics for the Monte Carlo simulation."
   ]
  },
  {
   "cell_type": "code",
   "execution_count": 34,
   "metadata": {},
   "outputs": [
    {
     "name": "stdout",
     "output_type": "stream",
     "text": [
      "count           500.000000\n",
      "mean             89.659084\n",
      "std              94.922814\n",
      "min               3.961832\n",
      "25%              34.371107\n",
      "50%              58.330814\n",
      "75%             107.267010\n",
      "max             707.125707\n",
      "95% CI Lower     10.753080\n",
      "95% CI Upper    332.545793\n",
      "Name: 7560, dtype: float64\n"
     ]
    }
   ],
   "source": [
    "# Generate summary statistics from the 30-year Monte Carlo simulation results\n",
    "# Save the results as a variable\n",
    "even_weight_table = MC_even_weight.summarize_cumulative_return()\n",
    "\n",
    "\n",
    "# Review the 30-year Monte Carlo summary statistics\n",
    "print(even_weight_table)"
   ]
  },
  {
   "cell_type": "markdown",
   "metadata": {},
   "source": [
    "### Analyze the Retirement Portfolio Forecasts\n",
    "\n",
    "Using the current value of only the stock and bond portion of the member's portfolio and the summary statistics that you generated from the Monte Carlo simulation, answer the following question in your Jupyter notebook:\n",
    "\n",
    "-  What are the lower and upper bounds for the expected value of the portfolio with a 95% confidence interval?\n",
    "-  The lower and upper bounds for the expected value of the portfolio with a 95% confidence interval are $11.08 and $312.67 respectively.\n"
   ]
  },
  {
   "cell_type": "code",
   "execution_count": 35,
   "metadata": {},
   "outputs": [
    {
     "name": "stdout",
     "output_type": "stream",
     "text": [
      "72410.8\n"
     ]
    }
   ],
   "source": [
    "# Print the current balance of the stock and bond portion of the members portfolio\n",
    "print(total_stocks_bonds)\n"
   ]
  },
  {
   "cell_type": "code",
   "execution_count": 55,
   "metadata": {},
   "outputs": [
    {
     "name": "stdout",
     "output_type": "stream",
     "text": [
      "There is a 95% chance that starting with the current total of stocks and bongs in the portfolio, $ 72410.80, and with an even weight portfolio over the next 30 years, the resulting balance will be within in the range of $ 778639.10 to $ 24079906.93.\n"
     ]
    }
   ],
   "source": [
    "# Use the lower and upper `95%` confidence intervals to calculate the range of the possible outcomes for the current stock/bond portfolio\n",
    "ci_lower_thirty_cumulative_return = (even_weight_table[8]*total_stocks_bonds)\n",
    "ci_upper_thirty_cumulative_return = (even_weight_table[9]*total_stocks_bonds)\n",
    "\n",
    "# Print the result of your calculations\n",
    "print(f\"There is a 95% chance that starting with the current total of stocks and bongs in the portfolio, ${total_stocks_bonds: .2f},\"\n",
    "      f\" and with an even weight portfolio over the next 30 years, the resulting balance will be within in the range of\"\n",
    "      f\" ${ci_lower_thirty_cumulative_return: .2f} to ${ci_upper_thirty_cumulative_return: .2f}.\")\n"
   ]
  },
  {
   "cell_type": "markdown",
   "metadata": {},
   "source": [
    "### Forecast Cumulative Returns in 10 Years\n",
    "\n",
    "The CTO of the credit union is impressed with your work on these planning tools but wonders if 30 years is a long time to wait until retirement. So, your next task is to adjust the retirement portfolio and run a new Monte Carlo simulation to find out if the changes will allow members to retire earlier.\n",
    "\n",
    "For this new Monte Carlo simulation, do the following: \n",
    "\n",
    "- Forecast the cumulative returns for 10 years from now. Because of the shortened investment horizon (30 years to 10 years), the portfolio needs to invest more heavily in the riskier asset&mdash;that is, stock&mdash;to help accumulate wealth for retirement. \n",
    "\n",
    "- Adjust the weights of the retirement portfolio so that the composition for the Monte Carlo simulation consists of 20% bonds and 80% stocks. \n",
    "\n",
    "- Run the simulation over 500 samples, and use the same data that the API call to Alpaca generated.\n",
    "\n",
    "- Based on the new Monte Carlo simulation, answer the following questions in your Jupyter notebook:\n",
    "\n",
    "    - Using the current value of only the stock and bond portion of the member's portfolio and the summary statistics that you generated from the new Monte Carlo simulation, what are the lower and upper bounds for the expected value of the portfolio (with the new weights) with a 95% confidence interval?\n",
    "\n",
    "    - Will weighting the portfolio more heavily toward stocks allow the credit union members to retire after only 10 years?\n"
   ]
  },
  {
   "cell_type": "code",
   "execution_count": 44,
   "metadata": {},
   "outputs": [
    {
     "data": {
      "text/html": [
       "<div>\n",
       "<style scoped>\n",
       "    .dataframe tbody tr th:only-of-type {\n",
       "        vertical-align: middle;\n",
       "    }\n",
       "\n",
       "    .dataframe tbody tr th {\n",
       "        vertical-align: top;\n",
       "    }\n",
       "\n",
       "    .dataframe thead tr th {\n",
       "        text-align: left;\n",
       "    }\n",
       "\n",
       "    .dataframe thead tr:last-of-type th {\n",
       "        text-align: right;\n",
       "    }\n",
       "</style>\n",
       "<table border=\"1\" class=\"dataframe\">\n",
       "  <thead>\n",
       "    <tr>\n",
       "      <th></th>\n",
       "      <th colspan=\"6\" halign=\"left\">AGG</th>\n",
       "      <th colspan=\"6\" halign=\"left\">SPY</th>\n",
       "    </tr>\n",
       "    <tr>\n",
       "      <th></th>\n",
       "      <th>open</th>\n",
       "      <th>high</th>\n",
       "      <th>low</th>\n",
       "      <th>close</th>\n",
       "      <th>volume</th>\n",
       "      <th>daily_return</th>\n",
       "      <th>open</th>\n",
       "      <th>high</th>\n",
       "      <th>low</th>\n",
       "      <th>close</th>\n",
       "      <th>volume</th>\n",
       "      <th>daily_return</th>\n",
       "    </tr>\n",
       "    <tr>\n",
       "      <th>time</th>\n",
       "      <th></th>\n",
       "      <th></th>\n",
       "      <th></th>\n",
       "      <th></th>\n",
       "      <th></th>\n",
       "      <th></th>\n",
       "      <th></th>\n",
       "      <th></th>\n",
       "      <th></th>\n",
       "      <th></th>\n",
       "      <th></th>\n",
       "      <th></th>\n",
       "    </tr>\n",
       "  </thead>\n",
       "  <tbody>\n",
       "    <tr>\n",
       "      <th>2019-10-21 00:00:00-04:00</th>\n",
       "      <td>112.62</td>\n",
       "      <td>112.7100</td>\n",
       "      <td>112.4900</td>\n",
       "      <td>112.51</td>\n",
       "      <td>2431676</td>\n",
       "      <td>NaN</td>\n",
       "      <td>299.42</td>\n",
       "      <td>300.21</td>\n",
       "      <td>298.9350</td>\n",
       "      <td>300.050</td>\n",
       "      <td>29676133</td>\n",
       "      <td>NaN</td>\n",
       "    </tr>\n",
       "    <tr>\n",
       "      <th>2019-10-22 00:00:00-04:00</th>\n",
       "      <td>112.65</td>\n",
       "      <td>112.7375</td>\n",
       "      <td>112.5100</td>\n",
       "      <td>112.66</td>\n",
       "      <td>1889075</td>\n",
       "      <td>0.001333</td>\n",
       "      <td>300.58</td>\n",
       "      <td>300.90</td>\n",
       "      <td>298.9100</td>\n",
       "      <td>299.030</td>\n",
       "      <td>42747335</td>\n",
       "      <td>-0.003399</td>\n",
       "    </tr>\n",
       "    <tr>\n",
       "      <th>2019-10-23 00:00:00-04:00</th>\n",
       "      <td>112.82</td>\n",
       "      <td>112.8800</td>\n",
       "      <td>112.7300</td>\n",
       "      <td>112.73</td>\n",
       "      <td>1787456</td>\n",
       "      <td>0.000621</td>\n",
       "      <td>298.73</td>\n",
       "      <td>299.94</td>\n",
       "      <td>298.4950</td>\n",
       "      <td>299.860</td>\n",
       "      <td>27944600</td>\n",
       "      <td>0.002776</td>\n",
       "    </tr>\n",
       "    <tr>\n",
       "      <th>2019-10-24 00:00:00-04:00</th>\n",
       "      <td>112.84</td>\n",
       "      <td>112.9459</td>\n",
       "      <td>112.7500</td>\n",
       "      <td>112.77</td>\n",
       "      <td>1589781</td>\n",
       "      <td>0.000355</td>\n",
       "      <td>300.91</td>\n",
       "      <td>301.07</td>\n",
       "      <td>299.4601</td>\n",
       "      <td>300.420</td>\n",
       "      <td>29850958</td>\n",
       "      <td>0.001868</td>\n",
       "    </tr>\n",
       "    <tr>\n",
       "      <th>2019-10-25 00:00:00-04:00</th>\n",
       "      <td>112.84</td>\n",
       "      <td>112.8500</td>\n",
       "      <td>112.5229</td>\n",
       "      <td>112.62</td>\n",
       "      <td>2325950</td>\n",
       "      <td>-0.001330</td>\n",
       "      <td>299.74</td>\n",
       "      <td>302.20</td>\n",
       "      <td>299.6806</td>\n",
       "      <td>301.565</td>\n",
       "      <td>36933520</td>\n",
       "      <td>0.003811</td>\n",
       "    </tr>\n",
       "  </tbody>\n",
       "</table>\n",
       "</div>"
      ],
      "text/plain": [
       "                              AGG                                       \\\n",
       "                             open      high       low   close   volume   \n",
       "time                                                                     \n",
       "2019-10-21 00:00:00-04:00  112.62  112.7100  112.4900  112.51  2431676   \n",
       "2019-10-22 00:00:00-04:00  112.65  112.7375  112.5100  112.66  1889075   \n",
       "2019-10-23 00:00:00-04:00  112.82  112.8800  112.7300  112.73  1787456   \n",
       "2019-10-24 00:00:00-04:00  112.84  112.9459  112.7500  112.77  1589781   \n",
       "2019-10-25 00:00:00-04:00  112.84  112.8500  112.5229  112.62  2325950   \n",
       "\n",
       "                                           SPY                             \\\n",
       "                          daily_return    open    high       low    close   \n",
       "time                                                                        \n",
       "2019-10-21 00:00:00-04:00          NaN  299.42  300.21  298.9350  300.050   \n",
       "2019-10-22 00:00:00-04:00     0.001333  300.58  300.90  298.9100  299.030   \n",
       "2019-10-23 00:00:00-04:00     0.000621  298.73  299.94  298.4950  299.860   \n",
       "2019-10-24 00:00:00-04:00     0.000355  300.91  301.07  299.4601  300.420   \n",
       "2019-10-25 00:00:00-04:00    -0.001330  299.74  302.20  299.6806  301.565   \n",
       "\n",
       "                                                  \n",
       "                             volume daily_return  \n",
       "time                                              \n",
       "2019-10-21 00:00:00-04:00  29676133          NaN  \n",
       "2019-10-22 00:00:00-04:00  42747335    -0.003399  \n",
       "2019-10-23 00:00:00-04:00  27944600     0.002776  \n",
       "2019-10-24 00:00:00-04:00  29850958     0.001868  \n",
       "2019-10-25 00:00:00-04:00  36933520     0.003811  "
      ]
     },
     "execution_count": 44,
     "metadata": {},
     "output_type": "execute_result"
    }
   ],
   "source": [
    "# Configure a Monte Carlo simulation to forecast 10 years cumulative returns\n",
    "# The weights should be split 20% to AGG and 80% to SPY.\n",
    "# Run 500 samples.\n",
    "MC_agg20_spy80 = MCSimulation(\n",
    "    portfolio_data = portfolio_mc_simulation_df,\n",
    "    weights = [.2,.8],\n",
    "    num_simulation = 500,\n",
    "    num_trading_days= 252*10\n",
    ")\n",
    "\n",
    "# Review the simulation input data\n",
    "MC_agg20_spy80.portfolio_data.head()\n"
   ]
  },
  {
   "cell_type": "code",
   "execution_count": 45,
   "metadata": {},
   "outputs": [
    {
     "name": "stdout",
     "output_type": "stream",
     "text": [
      "Running Monte Carlo simulation number 0.\n",
      "Running Monte Carlo simulation number 10.\n",
      "Running Monte Carlo simulation number 20.\n",
      "Running Monte Carlo simulation number 30.\n",
      "Running Monte Carlo simulation number 40.\n",
      "Running Monte Carlo simulation number 50.\n",
      "Running Monte Carlo simulation number 60.\n",
      "Running Monte Carlo simulation number 70.\n",
      "Running Monte Carlo simulation number 80.\n",
      "Running Monte Carlo simulation number 90.\n",
      "Running Monte Carlo simulation number 100.\n",
      "Running Monte Carlo simulation number 110.\n",
      "Running Monte Carlo simulation number 120.\n",
      "Running Monte Carlo simulation number 130.\n",
      "Running Monte Carlo simulation number 140.\n",
      "Running Monte Carlo simulation number 150.\n",
      "Running Monte Carlo simulation number 160.\n",
      "Running Monte Carlo simulation number 170.\n",
      "Running Monte Carlo simulation number 180.\n",
      "Running Monte Carlo simulation number 190.\n",
      "Running Monte Carlo simulation number 200.\n",
      "Running Monte Carlo simulation number 210.\n",
      "Running Monte Carlo simulation number 220.\n",
      "Running Monte Carlo simulation number 230.\n",
      "Running Monte Carlo simulation number 240.\n",
      "Running Monte Carlo simulation number 250.\n",
      "Running Monte Carlo simulation number 260.\n",
      "Running Monte Carlo simulation number 270.\n",
      "Running Monte Carlo simulation number 280.\n",
      "Running Monte Carlo simulation number 290.\n",
      "Running Monte Carlo simulation number 300.\n",
      "Running Monte Carlo simulation number 310.\n",
      "Running Monte Carlo simulation number 320.\n",
      "Running Monte Carlo simulation number 330.\n",
      "Running Monte Carlo simulation number 340.\n",
      "Running Monte Carlo simulation number 350.\n",
      "Running Monte Carlo simulation number 360.\n",
      "Running Monte Carlo simulation number 370.\n",
      "Running Monte Carlo simulation number 380.\n",
      "Running Monte Carlo simulation number 390.\n",
      "Running Monte Carlo simulation number 400.\n",
      "Running Monte Carlo simulation number 410.\n",
      "Running Monte Carlo simulation number 420.\n",
      "Running Monte Carlo simulation number 430.\n",
      "Running Monte Carlo simulation number 440.\n",
      "Running Monte Carlo simulation number 450.\n",
      "Running Monte Carlo simulation number 460.\n",
      "Running Monte Carlo simulation number 470.\n",
      "Running Monte Carlo simulation number 480.\n",
      "Running Monte Carlo simulation number 490.\n"
     ]
    },
    {
     "data": {
      "text/html": [
       "<div>\n",
       "<style scoped>\n",
       "    .dataframe tbody tr th:only-of-type {\n",
       "        vertical-align: middle;\n",
       "    }\n",
       "\n",
       "    .dataframe tbody tr th {\n",
       "        vertical-align: top;\n",
       "    }\n",
       "\n",
       "    .dataframe thead th {\n",
       "        text-align: right;\n",
       "    }\n",
       "</style>\n",
       "<table border=\"1\" class=\"dataframe\">\n",
       "  <thead>\n",
       "    <tr style=\"text-align: right;\">\n",
       "      <th></th>\n",
       "      <th>0</th>\n",
       "      <th>1</th>\n",
       "      <th>2</th>\n",
       "      <th>3</th>\n",
       "      <th>4</th>\n",
       "      <th>5</th>\n",
       "      <th>6</th>\n",
       "      <th>7</th>\n",
       "      <th>8</th>\n",
       "      <th>9</th>\n",
       "      <th>...</th>\n",
       "      <th>490</th>\n",
       "      <th>491</th>\n",
       "      <th>492</th>\n",
       "      <th>493</th>\n",
       "      <th>494</th>\n",
       "      <th>495</th>\n",
       "      <th>496</th>\n",
       "      <th>497</th>\n",
       "      <th>498</th>\n",
       "      <th>499</th>\n",
       "    </tr>\n",
       "  </thead>\n",
       "  <tbody>\n",
       "    <tr>\n",
       "      <th>0</th>\n",
       "      <td>1.000000</td>\n",
       "      <td>1.000000</td>\n",
       "      <td>1.000000</td>\n",
       "      <td>1.000000</td>\n",
       "      <td>1.000000</td>\n",
       "      <td>1.000000</td>\n",
       "      <td>1.000000</td>\n",
       "      <td>1.000000</td>\n",
       "      <td>1.000000</td>\n",
       "      <td>1.000000</td>\n",
       "      <td>...</td>\n",
       "      <td>1.000000</td>\n",
       "      <td>1.000000</td>\n",
       "      <td>1.000000</td>\n",
       "      <td>1.000000</td>\n",
       "      <td>1.000000</td>\n",
       "      <td>1.000000</td>\n",
       "      <td>1.000000</td>\n",
       "      <td>1.000000</td>\n",
       "      <td>1.000000</td>\n",
       "      <td>1.000000</td>\n",
       "    </tr>\n",
       "    <tr>\n",
       "      <th>1</th>\n",
       "      <td>1.011873</td>\n",
       "      <td>0.998298</td>\n",
       "      <td>1.000116</td>\n",
       "      <td>1.002095</td>\n",
       "      <td>1.005475</td>\n",
       "      <td>1.018506</td>\n",
       "      <td>1.008351</td>\n",
       "      <td>1.008794</td>\n",
       "      <td>1.004016</td>\n",
       "      <td>1.001227</td>\n",
       "      <td>...</td>\n",
       "      <td>0.995550</td>\n",
       "      <td>1.031042</td>\n",
       "      <td>1.010421</td>\n",
       "      <td>0.996262</td>\n",
       "      <td>0.992388</td>\n",
       "      <td>0.977064</td>\n",
       "      <td>0.995656</td>\n",
       "      <td>0.996798</td>\n",
       "      <td>1.007281</td>\n",
       "      <td>1.013687</td>\n",
       "    </tr>\n",
       "    <tr>\n",
       "      <th>2</th>\n",
       "      <td>1.003929</td>\n",
       "      <td>0.993972</td>\n",
       "      <td>1.007266</td>\n",
       "      <td>1.002258</td>\n",
       "      <td>1.014253</td>\n",
       "      <td>1.031815</td>\n",
       "      <td>1.018235</td>\n",
       "      <td>0.993860</td>\n",
       "      <td>1.001957</td>\n",
       "      <td>0.985256</td>\n",
       "      <td>...</td>\n",
       "      <td>1.018953</td>\n",
       "      <td>1.015299</td>\n",
       "      <td>1.041087</td>\n",
       "      <td>0.990440</td>\n",
       "      <td>0.984905</td>\n",
       "      <td>0.983996</td>\n",
       "      <td>0.985025</td>\n",
       "      <td>1.002691</td>\n",
       "      <td>1.004501</td>\n",
       "      <td>1.030114</td>\n",
       "    </tr>\n",
       "    <tr>\n",
       "      <th>3</th>\n",
       "      <td>1.017323</td>\n",
       "      <td>0.993114</td>\n",
       "      <td>0.997172</td>\n",
       "      <td>1.021836</td>\n",
       "      <td>1.002716</td>\n",
       "      <td>1.017876</td>\n",
       "      <td>1.029329</td>\n",
       "      <td>0.998903</td>\n",
       "      <td>1.024760</td>\n",
       "      <td>1.002472</td>\n",
       "      <td>...</td>\n",
       "      <td>1.012447</td>\n",
       "      <td>1.002836</td>\n",
       "      <td>1.025975</td>\n",
       "      <td>0.996141</td>\n",
       "      <td>0.995006</td>\n",
       "      <td>0.984104</td>\n",
       "      <td>0.960701</td>\n",
       "      <td>1.007950</td>\n",
       "      <td>0.985024</td>\n",
       "      <td>1.039239</td>\n",
       "    </tr>\n",
       "    <tr>\n",
       "      <th>4</th>\n",
       "      <td>1.011169</td>\n",
       "      <td>1.007701</td>\n",
       "      <td>1.005828</td>\n",
       "      <td>1.015027</td>\n",
       "      <td>0.995052</td>\n",
       "      <td>1.027632</td>\n",
       "      <td>1.030068</td>\n",
       "      <td>1.005283</td>\n",
       "      <td>1.032688</td>\n",
       "      <td>1.011141</td>\n",
       "      <td>...</td>\n",
       "      <td>1.020218</td>\n",
       "      <td>1.024656</td>\n",
       "      <td>1.019935</td>\n",
       "      <td>0.984233</td>\n",
       "      <td>1.009765</td>\n",
       "      <td>0.993844</td>\n",
       "      <td>0.951915</td>\n",
       "      <td>0.992051</td>\n",
       "      <td>1.020911</td>\n",
       "      <td>1.031106</td>\n",
       "    </tr>\n",
       "    <tr>\n",
       "      <th>...</th>\n",
       "      <td>...</td>\n",
       "      <td>...</td>\n",
       "      <td>...</td>\n",
       "      <td>...</td>\n",
       "      <td>...</td>\n",
       "      <td>...</td>\n",
       "      <td>...</td>\n",
       "      <td>...</td>\n",
       "      <td>...</td>\n",
       "      <td>...</td>\n",
       "      <td>...</td>\n",
       "      <td>...</td>\n",
       "      <td>...</td>\n",
       "      <td>...</td>\n",
       "      <td>...</td>\n",
       "      <td>...</td>\n",
       "      <td>...</td>\n",
       "      <td>...</td>\n",
       "      <td>...</td>\n",
       "      <td>...</td>\n",
       "      <td>...</td>\n",
       "    </tr>\n",
       "    <tr>\n",
       "      <th>2516</th>\n",
       "      <td>6.658554</td>\n",
       "      <td>16.433649</td>\n",
       "      <td>2.323702</td>\n",
       "      <td>4.112996</td>\n",
       "      <td>10.753234</td>\n",
       "      <td>1.237776</td>\n",
       "      <td>3.009029</td>\n",
       "      <td>4.037596</td>\n",
       "      <td>4.188736</td>\n",
       "      <td>3.297087</td>\n",
       "      <td>...</td>\n",
       "      <td>2.848523</td>\n",
       "      <td>3.313019</td>\n",
       "      <td>4.823908</td>\n",
       "      <td>26.200326</td>\n",
       "      <td>5.772110</td>\n",
       "      <td>3.750657</td>\n",
       "      <td>4.219242</td>\n",
       "      <td>7.868813</td>\n",
       "      <td>6.826950</td>\n",
       "      <td>20.721570</td>\n",
       "    </tr>\n",
       "    <tr>\n",
       "      <th>2517</th>\n",
       "      <td>6.668610</td>\n",
       "      <td>16.774237</td>\n",
       "      <td>2.333224</td>\n",
       "      <td>4.142358</td>\n",
       "      <td>10.790314</td>\n",
       "      <td>1.234406</td>\n",
       "      <td>2.963695</td>\n",
       "      <td>4.023951</td>\n",
       "      <td>4.278115</td>\n",
       "      <td>3.311024</td>\n",
       "      <td>...</td>\n",
       "      <td>2.796945</td>\n",
       "      <td>3.357982</td>\n",
       "      <td>4.849701</td>\n",
       "      <td>26.065447</td>\n",
       "      <td>5.765981</td>\n",
       "      <td>3.800463</td>\n",
       "      <td>4.224694</td>\n",
       "      <td>7.855744</td>\n",
       "      <td>6.844678</td>\n",
       "      <td>20.563800</td>\n",
       "    </tr>\n",
       "    <tr>\n",
       "      <th>2518</th>\n",
       "      <td>6.631062</td>\n",
       "      <td>16.519732</td>\n",
       "      <td>2.337485</td>\n",
       "      <td>4.153983</td>\n",
       "      <td>10.932948</td>\n",
       "      <td>1.252435</td>\n",
       "      <td>2.950706</td>\n",
       "      <td>3.998356</td>\n",
       "      <td>4.237718</td>\n",
       "      <td>3.266441</td>\n",
       "      <td>...</td>\n",
       "      <td>2.716426</td>\n",
       "      <td>3.328676</td>\n",
       "      <td>4.924887</td>\n",
       "      <td>25.870170</td>\n",
       "      <td>5.935682</td>\n",
       "      <td>3.731223</td>\n",
       "      <td>4.276941</td>\n",
       "      <td>7.993639</td>\n",
       "      <td>6.656430</td>\n",
       "      <td>20.820971</td>\n",
       "    </tr>\n",
       "    <tr>\n",
       "      <th>2519</th>\n",
       "      <td>6.724270</td>\n",
       "      <td>16.606536</td>\n",
       "      <td>2.350576</td>\n",
       "      <td>4.181588</td>\n",
       "      <td>11.066174</td>\n",
       "      <td>1.257473</td>\n",
       "      <td>2.979917</td>\n",
       "      <td>4.024773</td>\n",
       "      <td>4.200191</td>\n",
       "      <td>3.265097</td>\n",
       "      <td>...</td>\n",
       "      <td>2.703243</td>\n",
       "      <td>3.305862</td>\n",
       "      <td>4.823818</td>\n",
       "      <td>26.283303</td>\n",
       "      <td>5.877081</td>\n",
       "      <td>3.664932</td>\n",
       "      <td>4.284463</td>\n",
       "      <td>7.901395</td>\n",
       "      <td>6.627280</td>\n",
       "      <td>20.900283</td>\n",
       "    </tr>\n",
       "    <tr>\n",
       "      <th>2520</th>\n",
       "      <td>6.941591</td>\n",
       "      <td>16.884245</td>\n",
       "      <td>2.373440</td>\n",
       "      <td>4.266165</td>\n",
       "      <td>10.938975</td>\n",
       "      <td>1.256381</td>\n",
       "      <td>2.998229</td>\n",
       "      <td>4.070754</td>\n",
       "      <td>4.227641</td>\n",
       "      <td>3.325480</td>\n",
       "      <td>...</td>\n",
       "      <td>2.709125</td>\n",
       "      <td>3.299458</td>\n",
       "      <td>4.954798</td>\n",
       "      <td>26.198576</td>\n",
       "      <td>5.964112</td>\n",
       "      <td>3.665422</td>\n",
       "      <td>4.279050</td>\n",
       "      <td>7.754350</td>\n",
       "      <td>6.652030</td>\n",
       "      <td>20.393208</td>\n",
       "    </tr>\n",
       "  </tbody>\n",
       "</table>\n",
       "<p>2521 rows × 500 columns</p>\n",
       "</div>"
      ],
      "text/plain": [
       "           0          1         2         3          4         5         6    \\\n",
       "0     1.000000   1.000000  1.000000  1.000000   1.000000  1.000000  1.000000   \n",
       "1     1.011873   0.998298  1.000116  1.002095   1.005475  1.018506  1.008351   \n",
       "2     1.003929   0.993972  1.007266  1.002258   1.014253  1.031815  1.018235   \n",
       "3     1.017323   0.993114  0.997172  1.021836   1.002716  1.017876  1.029329   \n",
       "4     1.011169   1.007701  1.005828  1.015027   0.995052  1.027632  1.030068   \n",
       "...        ...        ...       ...       ...        ...       ...       ...   \n",
       "2516  6.658554  16.433649  2.323702  4.112996  10.753234  1.237776  3.009029   \n",
       "2517  6.668610  16.774237  2.333224  4.142358  10.790314  1.234406  2.963695   \n",
       "2518  6.631062  16.519732  2.337485  4.153983  10.932948  1.252435  2.950706   \n",
       "2519  6.724270  16.606536  2.350576  4.181588  11.066174  1.257473  2.979917   \n",
       "2520  6.941591  16.884245  2.373440  4.266165  10.938975  1.256381  2.998229   \n",
       "\n",
       "           7         8         9    ...       490       491       492  \\\n",
       "0     1.000000  1.000000  1.000000  ...  1.000000  1.000000  1.000000   \n",
       "1     1.008794  1.004016  1.001227  ...  0.995550  1.031042  1.010421   \n",
       "2     0.993860  1.001957  0.985256  ...  1.018953  1.015299  1.041087   \n",
       "3     0.998903  1.024760  1.002472  ...  1.012447  1.002836  1.025975   \n",
       "4     1.005283  1.032688  1.011141  ...  1.020218  1.024656  1.019935   \n",
       "...        ...       ...       ...  ...       ...       ...       ...   \n",
       "2516  4.037596  4.188736  3.297087  ...  2.848523  3.313019  4.823908   \n",
       "2517  4.023951  4.278115  3.311024  ...  2.796945  3.357982  4.849701   \n",
       "2518  3.998356  4.237718  3.266441  ...  2.716426  3.328676  4.924887   \n",
       "2519  4.024773  4.200191  3.265097  ...  2.703243  3.305862  4.823818   \n",
       "2520  4.070754  4.227641  3.325480  ...  2.709125  3.299458  4.954798   \n",
       "\n",
       "            493       494       495       496       497       498        499  \n",
       "0      1.000000  1.000000  1.000000  1.000000  1.000000  1.000000   1.000000  \n",
       "1      0.996262  0.992388  0.977064  0.995656  0.996798  1.007281   1.013687  \n",
       "2      0.990440  0.984905  0.983996  0.985025  1.002691  1.004501   1.030114  \n",
       "3      0.996141  0.995006  0.984104  0.960701  1.007950  0.985024   1.039239  \n",
       "4      0.984233  1.009765  0.993844  0.951915  0.992051  1.020911   1.031106  \n",
       "...         ...       ...       ...       ...       ...       ...        ...  \n",
       "2516  26.200326  5.772110  3.750657  4.219242  7.868813  6.826950  20.721570  \n",
       "2517  26.065447  5.765981  3.800463  4.224694  7.855744  6.844678  20.563800  \n",
       "2518  25.870170  5.935682  3.731223  4.276941  7.993639  6.656430  20.820971  \n",
       "2519  26.283303  5.877081  3.664932  4.284463  7.901395  6.627280  20.900283  \n",
       "2520  26.198576  5.964112  3.665422  4.279050  7.754350  6.652030  20.393208  \n",
       "\n",
       "[2521 rows x 500 columns]"
      ]
     },
     "execution_count": 45,
     "metadata": {},
     "output_type": "execute_result"
    }
   ],
   "source": [
    "# Run the Monte Carlo simulation to forecast 10 years cumulative returns\n",
    "MC_agg20_spy80.calc_cumulative_return()\n"
   ]
  },
  {
   "cell_type": "code",
   "execution_count": 47,
   "metadata": {},
   "outputs": [
    {
     "data": {
      "image/png": "[encoded data removed]",
      "text/plain": [
       "<Figure size 432x288 with 1 Axes>"
      ]
     },
     "metadata": {
      "needs_background": "light"
     },
     "output_type": "display_data"
    }
   ],
   "source": [
    "# Visualize the 10-year Monte Carlo simulation by creating an\n",
    "# overlay line plot\n",
    "agg20_spy80_overlay = MC_agg20_spy80.plot_simulation()\n"
   ]
  },
  {
   "cell_type": "code",
   "execution_count": 48,
   "metadata": {},
   "outputs": [
    {
     "data": {
      "image/png": "[encoded data removed]",
      "text/plain": [
       "<Figure size 432x288 with 1 Axes>"
      ]
     },
     "metadata": {
      "needs_background": "light"
     },
     "output_type": "display_data"
    }
   ],
   "source": [
    "# Visualize the probability distribution of the 10-year Monte Carlo simulation \n",
    "# by plotting a histogram\n",
    "\n",
    "agg20_spy80_distribution = MC_agg20_spy80.plot_distribution()\n"
   ]
  },
  {
   "cell_type": "code",
   "execution_count": 49,
   "metadata": {},
   "outputs": [
    {
     "data": {
      "text/plain": [
       "count           500.000000\n",
       "mean              6.855849\n",
       "std               4.782707\n",
       "min               0.643549\n",
       "25%               3.643026\n",
       "50%               5.389392\n",
       "75%               8.528062\n",
       "max              39.098687\n",
       "95% CI Lower      1.617426\n",
       "95% CI Upper     19.656057\n",
       "Name: 2520, dtype: float64"
      ]
     },
     "execution_count": 49,
     "metadata": {},
     "output_type": "execute_result"
    }
   ],
   "source": [
    "# Generate summary statistics from the 10-year Monte Carlo simulation results\n",
    "# Save the results as a variable\n",
    "agg20_spy80_table = MC_agg20_spy80.summarize_cumulative_return()\n",
    "\n",
    "\n",
    "# Review the 10-year Monte Carlo summary statistics\n",
    "agg20_spy80_table\n"
   ]
  },
  {
   "cell_type": "markdown",
   "metadata": {},
   "source": [
    "### Answer the following questions:"
   ]
  },
  {
   "cell_type": "markdown",
   "metadata": {},
   "source": [
    "#### Question: Using the current value of only the stock and bond portion of the member's portfolio and the summary statistics that you generated from the new Monte Carlo simulation, what are the lower and upper bounds for the expected value of the portfolio (with the new weights) with a 95% confidence interval?"
   ]
  },
  {
   "cell_type": "code",
   "execution_count": 50,
   "metadata": {},
   "outputs": [
    {
     "name": "stdout",
     "output_type": "stream",
     "text": [
      "72410.8\n"
     ]
    }
   ],
   "source": [
    "# Print the current balance of the stock and bond portion of the members portfolio\n",
    "print(total_stocks_bonds)\n"
   ]
  },
  {
   "cell_type": "code",
   "execution_count": 54,
   "metadata": {},
   "outputs": [
    {
     "name": "stdout",
     "output_type": "stream",
     "text": [
      "There is a 95% chance that starting with the current total of stocks and bonds in the portfolio, $ 72410.80, and with a 20/80 portfolio over the next 10 years, the resulting balance will be within in the range of $ 117119.08 to $ 1423310.82.\n"
     ]
    }
   ],
   "source": [
    "# Use the lower and upper `95%` confidence intervals to calculate the range of the possible outcomes for the current stock/bond portfolio\n",
    "ci_lower_ten_cumulative_return = (agg20_spy80_table[8]*total_stocks_bonds)\n",
    "ci_upper_ten_cumulative_return = (agg20_spy80_table[9]*total_stocks_bonds)\n",
    "\n",
    "# Print the result of your calculations\n",
    "print(f\"There is a 95% chance that starting with the current total of stocks and bonds in the portfolio, ${total_stocks_bonds: .2f},\"\n",
    "      f\" and with a 20/80 portfolio over the next 10 years, the resulting balance will be within in the range of\"\n",
    "      f\" ${ci_lower_ten_cumulative_return: .2f} to ${ci_upper_ten_cumulative_return: .2f}.\")\n"
   ]
  },
  {
   "cell_type": "markdown",
   "metadata": {},
   "source": [
    "#### Question: Will weighting the portfolio more heavily to stocks allow the credit union members to retire after only 10 years?"
   ]
  },
  {
   "cell_type": "raw",
   "metadata": {},
   "source": [
    "**Answer**  In the best case scenario, it is possible that the individual would be able to retire with this portfolio distribution.  However, the lower end of possible returns would not be sufficent."
   ]
  },
  {
   "cell_type": "code",
   "execution_count": null,
   "metadata": {},
   "outputs": [],
   "source": []
  }
 ],
 "metadata": {
  "kernelspec": {
   "display_name": "Python (dev)",
   "language": "python",
   "name": "dev"
  },
  "language_info": {
   "codemirror_mode": {
    "name": "ipython",
    "version": 3
   },
   "file_extension": ".py",
   "mimetype": "text/x-python",
   "name": "python",
   "nbconvert_exporter": "python",
   "pygments_lexer": "ipython3",
   "version": "3.7.10"
  }
 },
 "nbformat": 4,
 "nbformat_minor": 4
}
